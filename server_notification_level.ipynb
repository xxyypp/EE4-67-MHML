{
 "cells": [
  {
   "cell_type": "code",
   "execution_count": null,
   "metadata": {},
   "outputs": [],
   "source": [
    "import socketio\n",
    "#ip = 'http://35.246.29.217:65080/' \n",
    "ip = 'http://146.169.173.109:65080/' \n",
    "sio = socketio.Client()\n",
    "\n",
    "@sio.on('connect')\n",
    "def on_connect():\n",
    "    print('connection established')\n",
    "\n",
    "@sio.on('newTime')\n",
    "def on_message(data):\n",
    "    hour = data[hour]\n",
    "    minute = data[minute]\n",
    "    second = data[second]\n",
    "    # call function to increase level\n",
    "    \n",
    "\n",
    "@sio.on('disconnect')\n",
    "def on_disconnect():\n",
    "    print('disconnected from server')\n",
    "\n",
    "sio.connect(ip)\n",
    "sio.wait()"
   ]
  }
 ],
 "metadata": {
  "kernelspec": {
   "display_name": "py36",
   "language": "python",
   "name": "py36"
  },
  "language_info": {
   "codemirror_mode": {
    "name": "ipython",
    "version": 3
   },
   "file_extension": ".py",
   "mimetype": "text/x-python",
   "name": "python",
   "nbconvert_exporter": "python",
   "pygments_lexer": "ipython3",
   "version": "3.6.6"
  }
 },
 "nbformat": 4,
 "nbformat_minor": 2
}
