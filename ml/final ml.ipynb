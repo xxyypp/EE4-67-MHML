{
 "cells": [
  {
   "cell_type": "code",
   "execution_count": 34,
   "metadata": {},
   "outputs": [],
   "source": [
    "import matplotlib.pyplot as plt\n",
    "import numpy as np\n",
    "from sklearn.preprocessing import PolynomialFeatures\n",
    "from sklearn.linear_model import LinearRegression\n",
    "import csv\n",
    "from sklearn.model_selection import train_test_split\n",
    "from sklearn.metrics import mean_squared_error, r2_score\n",
    "from sklearn.preprocessing import PolynomialFeatures\n",
    "from sklearn.linear_model import LogisticRegression\n",
    "from sklearn import tree\n",
    "from sklearn.tree import DecisionTreeRegressor\n",
    "from datetime import datetime, date, time,timedelta\n",
    "import pickle"
   ]
  },
  {
   "cell_type": "code",
   "execution_count": 24,
   "metadata": {},
   "outputs": [],
   "source": [
    "class classGetData():\n",
    "    def __init__(self,fileloc):\n",
    "        self.loc = fileloc\n",
    "        print('Init...')\n",
    "        \n",
    "\n",
    "    def readCSV(self):\n",
    "        #data1 = open('./data/test.csv')\n",
    "        print('Reading...')\n",
    "        file_open = open(self.loc)\n",
    "        datareader = csv.reader(file_open,delimiter= ',')\n",
    "        data_arr = []\n",
    "        for row in datareader:\n",
    "            data_arr.append(row)\n",
    "\n",
    "        arr = np.array(data_arr)\n",
    "        #arr = arr[1:,:]\n",
    "        print('Done...')\n",
    "        return arr"
   ]
  },
  {
   "cell_type": "code",
   "execution_count": 25,
   "metadata": {},
   "outputs": [],
   "source": [
    "def read_data(loc_in):\n",
    "    a = classGetData(loc_in)\n",
    "    data1 = a.readCSV()\n",
    "    return data1"
   ]
  },
  {
   "cell_type": "code",
   "execution_count": 26,
   "metadata": {},
   "outputs": [
    {
     "name": "stdout",
     "output_type": "stream",
     "text": [
      "0:59:11\n"
     ]
    }
   ],
   "source": [
    "from datetime import datetime\n",
    "s1 = '10:04:00'\n",
    "s2 = '11:03:11' # for example\n",
    "format = '%H:%M:%S'\n",
    "time = datetime.strptime(s2, format) - datetime.strptime(s1, format)\n",
    "print (time)"
   ]
  },
  {
   "cell_type": "markdown",
   "metadata": {},
   "source": [
    "# Training data"
   ]
  },
  {
   "cell_type": "code",
   "execution_count": 27,
   "metadata": {},
   "outputs": [
    {
     "name": "stdout",
     "output_type": "stream",
     "text": [
      "Init...\n",
      "Reading...\n",
      "Done...\n",
      "Init...\n",
      "Reading...\n",
      "Done...\n",
      "Init...\n",
      "Reading...\n",
      "Done...\n"
     ]
    }
   ],
   "source": [
    "#'''Daily questionnaires'''\n",
    "questionnaires = './que.csv'\n",
    "raw = read_data(questionnaires)\n",
    "raw_data = raw[1:,1:]\n",
    "title = raw[0,1:]\n",
    "X_que = raw_data.copy()\n",
    "X_que = X_que.astype(float)\n",
    "\n",
    "#'''Initial setting'''\n",
    "init = './init.csv' # morning, afternoon, evening, wake, sleep\n",
    "raw = read_data(init)\n",
    "raw_data = raw[1:,:]\n",
    "\n",
    "X_init = raw_data.copy()\n",
    "#X_init = X_init.astype(float)\n",
    "\n",
    "#'''Reminder Ranking wrt daily questionnaires'''\n",
    "notifi = './notification_lvl.csv'\n",
    "raw = read_data(notifi)\n",
    "raw_data = raw[1:,1:]\n",
    "\n",
    "y_notifi = raw_data.copy()\n",
    "y_notifi = y_notifi.astype(float)"
   ]
  },
  {
   "cell_type": "markdown",
   "metadata": {},
   "source": [
    "# Training Validation Test split"
   ]
  },
  {
   "cell_type": "code",
   "execution_count": 28,
   "metadata": {},
   "outputs": [],
   "source": [
    "X_train, X_test, y_train, y_test = train_test_split(X_que[:,:3], y_notifi, test_size=0.2, random_state=42)\n"
   ]
  },
  {
   "cell_type": "code",
   "execution_count": 36,
   "metadata": {},
   "outputs": [
    {
     "name": "stdout",
     "output_type": "stream",
     "text": [
      "(24, 3)\n",
      "(6, 3)\n",
      "(24, 3)\n",
      "(6, 3)\n"
     ]
    }
   ],
   "source": [
    "print(X_train.shape)\n",
    "print(X_test.shape)\n",
    "print(y_train.shape)\n",
    "print(y_test.shape)"
   ]
  },
  {
   "cell_type": "code",
   "execution_count": 29,
   "metadata": {},
   "outputs": [],
   "source": [
    "def evaluation(y_predict, y_test):\n",
    "    print(\"Mean squared error: %.2f\" % mean_squared_error(y_test, y_predict))\n",
    "    # Explained variance score: 1 is perfect prediction\n",
    "    print('Variance score: %.2f' % r2_score(y_test, y_predict))"
   ]
  },
  {
   "cell_type": "markdown",
   "metadata": {},
   "source": [
    "# Notification is a classification problem:\n",
    "## Decision Tree Classification"
   ]
  },
  {
   "cell_type": "code",
   "execution_count": 30,
   "metadata": {},
   "outputs": [],
   "source": [
    "import graphviz\n",
    "from sklearn.metrics import accuracy_score"
   ]
  },
  {
   "cell_type": "code",
   "execution_count": 37,
   "metadata": {
    "scrolled": true
   },
   "outputs": [
    {
     "name": "stdout",
     "output_type": "stream",
     "text": [
      "[3. 2. 2. 3. 3. 2. 1. 1. 2. 2. 1. 2. 2. 3. 3. 2. 1. 3.]\n"
     ]
    }
   ],
   "source": [
    "clf = tree.DecisionTreeClassifier()\n",
    "clf = clf.fit(X_train.ravel().reshape(-1,1), y_train.ravel().reshape(-1,1))\n",
    "\n",
    "y_dec_predict = clf.predict(X_test.ravel().reshape(-1,1))\n",
    "print(y_dec_predict)"
   ]
  },
  {
   "cell_type": "code",
   "execution_count": 42,
   "metadata": {},
   "outputs": [],
   "source": [
    "# save the model to disk\n",
    "filename = 'notification_model.sav'\n",
    "pickle.dump(clf, open(filename, 'wb'))"
   ]
  },
  {
   "cell_type": "code",
   "execution_count": 94,
   "metadata": {},
   "outputs": [
    {
     "name": "stdout",
     "output_type": "stream",
     "text": [
      "Accuracy 100.00%\n"
     ]
    }
   ],
   "source": [
    "dot_data = tree.export_graphviz(clf, out_file=None,\n",
    "                                class_names=['Level 1','Level 2','Level 3','Level 4','Level 5'], filled=True, \n",
    "                                rounded=True,special_characters=True) \n",
    "graph = graphviz.Source(dot_data) \n",
    "graph.render(\"decision\") \n",
    "graphviz.Source(dot_data).view()\n",
    "print('Accuracy {:.2f}%'.format(100*accuracy_score(y_test.ravel(), y_dec_predict)))"
   ]
  },
  {
   "cell_type": "markdown",
   "metadata": {},
   "source": [
    "# SQL"
   ]
  },
  {
   "cell_type": "code",
   "execution_count": 110,
   "metadata": {},
   "outputs": [
    {
     "name": "stdout",
     "output_type": "stream",
     "text": [
      "[('Mon Mar 11 2019 10:50:16 GMT+0000 (GMT Standard Time)',), ('Mon Mar 11 2019 10:50:56 GMT+0000 (GMT Standard Time)',)]\n"
     ]
    }
   ],
   "source": [
    "import sqlite3\n",
    "from sqlite3 import Error\n",
    "import datetime\n",
    "def create_connection(db_file):\n",
    "    \"\"\" create a database connection to the SQLite database\n",
    "        specified by the db_file\n",
    "    :param db_file: database file\n",
    "    :return: Connection object or None\n",
    "    \"\"\"\n",
    "    try:\n",
    "        conn = sqlite3.connect(db_file)\n",
    "        return conn\n",
    "    except Error as e:\n",
    "        print(e)\n",
    " \n",
    "    return None\n",
    "def get_db_Time(conn):\n",
    "    cur = conn.cursor()\n",
    "    cur.execute(\"SELECT Timestamp From timeTaken\")\n",
    " \n",
    "    rows = cur.fetchall()\n",
    "    return rows\n",
    "\n",
    "\n",
    "database = './storage.db'\n",
    "conn = create_connection(database)\n",
    "with conn:\n",
    "    time = get_db_Time(conn)\n",
    "    \n",
    "print(time)"
   ]
  },
  {
   "cell_type": "code",
   "execution_count": 133,
   "metadata": {},
   "outputs": [
    {
     "name": "stdout",
     "output_type": "stream",
     "text": [
      "[' Mar 11 2019 10:50:16', ' Mar 11 2019 10:50:56']\n"
     ]
    }
   ],
   "source": [
    "actual_time = [x[0][3:24] for x in time]\n",
    "print(actual_time)"
   ]
  },
  {
   "cell_type": "code",
   "execution_count": 126,
   "metadata": {},
   "outputs": [
    {
     "name": "stdout",
     "output_type": "stream",
     "text": [
      "/03/11/2019/10:50:16\n",
      " 03 11 2019 10:50:16\n"
     ]
    }
   ],
   "source": [
    "print(actual_time[0].replace('Mar','03').replace(' ','/'))\n",
    "print(actual_time[0].replace('Mar','03'))"
   ]
  },
  {
   "cell_type": "code",
   "execution_count": 132,
   "metadata": {},
   "outputs": [
    {
     "name": "stdout",
     "output_type": "stream",
     "text": [
      " Mar 11 2019 10:50:16\n"
     ]
    },
    {
     "ename": "TypeError",
     "evalue": "descriptor 'strftime' requires a 'datetime.date' object but received a 'str'",
     "output_type": "error",
     "traceback": [
      "\u001b[1;31m---------------------------------------------------------------------------\u001b[0m",
      "\u001b[1;31mTypeError\u001b[0m                                 Traceback (most recent call last)",
      "\u001b[1;32m<ipython-input-132-b38cbf4d5957>\u001b[0m in \u001b[0;36m<module>\u001b[1;34m\u001b[0m\n\u001b[0;32m      6\u001b[0m \u001b[0mtime_\u001b[0m \u001b[1;33m=\u001b[0m \u001b[0mactual_time\u001b[0m\u001b[1;33m[\u001b[0m\u001b[1;36m0\u001b[0m\u001b[1;33m]\u001b[0m\u001b[1;33m.\u001b[0m\u001b[0mreplace\u001b[0m\u001b[1;33m(\u001b[0m\u001b[1;34m'Mar'\u001b[0m\u001b[1;33m,\u001b[0m\u001b[1;34m'03'\u001b[0m\u001b[1;33m)\u001b[0m\u001b[1;33m.\u001b[0m\u001b[0mreplace\u001b[0m\u001b[1;33m(\u001b[0m\u001b[1;34m' '\u001b[0m\u001b[1;33m,\u001b[0m\u001b[1;34m'/'\u001b[0m\u001b[1;33m)\u001b[0m\u001b[1;33m\u001b[0m\u001b[0m\n\u001b[0;32m      7\u001b[0m \u001b[0mtime_\u001b[0m \u001b[1;33m=\u001b[0m \u001b[0mtime_\u001b[0m\u001b[1;33m[\u001b[0m\u001b[1;36m1\u001b[0m\u001b[1;33m:\u001b[0m\u001b[1;36m11\u001b[0m\u001b[1;33m]\u001b[0m\u001b[1;33m+\u001b[0m\u001b[1;34m' '\u001b[0m\u001b[1;33m+\u001b[0m\u001b[0mtime_\u001b[0m\u001b[1;33m[\u001b[0m\u001b[1;36m12\u001b[0m\u001b[1;33m:\u001b[0m\u001b[1;33m]\u001b[0m\u001b[1;33m\u001b[0m\u001b[0m\n\u001b[1;32m----> 8\u001b[1;33m \u001b[0mactual_time_convert\u001b[0m \u001b[1;33m=\u001b[0m \u001b[0mdatetime\u001b[0m\u001b[1;33m.\u001b[0m\u001b[0mdatetime\u001b[0m\u001b[1;33m.\u001b[0m\u001b[0mstrftime\u001b[0m\u001b[1;33m(\u001b[0m\u001b[0mtime_\u001b[0m\u001b[1;33m,\u001b[0m \u001b[1;34m\"%m/%d/%y %H:%M:%S\"\u001b[0m\u001b[1;33m)\u001b[0m\u001b[1;33m\u001b[0m\u001b[0m\n\u001b[0m\u001b[0;32m      9\u001b[0m \u001b[0mprint\u001b[0m\u001b[1;33m(\u001b[0m\u001b[0mactual_time_convert\u001b[0m\u001b[1;33m)\u001b[0m\u001b[1;33m\u001b[0m\u001b[0m\n",
      "\u001b[1;31mTypeError\u001b[0m: descriptor 'strftime' requires a 'datetime.date' object but received a 'str'"
     ]
    }
   ],
   "source": [
    "print((actual_time[0]))\n",
    "import datetime\n",
    "year = '19'\n",
    "month = '05'\n",
    "day = '05'\n",
    "time_ = actual_time[0].replace('Mar','03').replace(' ','/')\n",
    "time_ = time_[1:11]+' '+time_[12:]\n",
    "actual_time_convert = datetime.datetime.strptime(time_, \"%m/%d/%y %H:%M:%S\")\n",
    "print(actual_time_convert)"
   ]
  },
  {
   "cell_type": "markdown",
   "metadata": {},
   "source": [
    "# SVM"
   ]
  },
  {
   "cell_type": "code",
   "execution_count": 13,
   "metadata": {},
   "outputs": [
    {
     "name": "stdout",
     "output_type": "stream",
     "text": [
      "Accuracy 100.00%\n",
      "\n",
      "\n",
      "kernel  linear\n",
      "Accuracy 100.00%\n",
      "\n",
      "\n",
      "kernel  rbf\n",
      "Accuracy 100.00%\n",
      "\n",
      "\n",
      "kernel  sigmoid\n",
      "Accuracy 61.11%\n",
      "\n",
      "\n"
     ]
    },
    {
     "name": "stderr",
     "output_type": "stream",
     "text": [
      "D:\\Program\\Anaconda\\envs\\py36\\lib\\site-packages\\sklearn\\utils\\validation.py:752: DataConversionWarning: A column-vector y was passed when a 1d array was expected. Please change the shape of y to (n_samples, ), for example using ravel().\n",
      "  y = column_or_1d(y, warn=True)\n",
      "D:\\Program\\Anaconda\\envs\\py36\\lib\\site-packages\\sklearn\\utils\\validation.py:752: DataConversionWarning: A column-vector y was passed when a 1d array was expected. Please change the shape of y to (n_samples, ), for example using ravel().\n",
      "  y = column_or_1d(y, warn=True)\n",
      "D:\\Program\\Anaconda\\envs\\py36\\lib\\site-packages\\sklearn\\utils\\validation.py:752: DataConversionWarning: A column-vector y was passed when a 1d array was expected. Please change the shape of y to (n_samples, ), for example using ravel().\n",
      "  y = column_or_1d(y, warn=True)\n",
      "D:\\Program\\Anaconda\\envs\\py36\\lib\\site-packages\\sklearn\\utils\\validation.py:752: DataConversionWarning: A column-vector y was passed when a 1d array was expected. Please change the shape of y to (n_samples, ), for example using ravel().\n",
      "  y = column_or_1d(y, warn=True)\n"
     ]
    }
   ],
   "source": [
    "from sklearn import svm\n",
    "\n",
    "clf = svm.SVC(gamma='scale',decision_function_shape='ovo').fit(X_train.ravel().reshape(-1,1), y_train.ravel().reshape(-1,1))\n",
    "svm_predict = clf.predict(X_test.ravel().reshape(-1,1))\n",
    "print('Accuracy {:.2f}%'.format(100*accuracy_score(y_test.ravel(), svm_predict)))\n",
    "print('\\n')\n",
    "# Kernels\n",
    "kern = ['linear', 'rbf', 'sigmoid']\n",
    "\n",
    "for k in kern:\n",
    "    clf = svm.SVC(gamma='scale',decision_function_shape='ovo', kernel = k).fit(X_train.ravel().reshape(-1,1), y_train.ravel().reshape(-1,1))\n",
    "    svm_predict = clf.predict(X_test.ravel().reshape(-1,1))\n",
    "    print('kernel ', k)\n",
    "    print('Accuracy {:.2f}%'.format(100*accuracy_score(y_test.ravel(), svm_predict)))\n",
    "    print('\\n')\n"
   ]
  },
  {
   "cell_type": "markdown",
   "metadata": {},
   "source": [
    "# Nofitication Time¶"
   ]
  },
  {
   "cell_type": "code",
   "execution_count": 14,
   "metadata": {},
   "outputs": [
    {
     "name": "stdout",
     "output_type": "stream",
     "text": [
      "[ 11.  -4.  -1. -19.  -9.]\n",
      "[['7:30' '12:00' '18:00' '7:00' '10:30']]\n"
     ]
    }
   ],
   "source": [
    "mean_X = np.mean(X_que, axis = 0)\n",
    "print(mean_X)\n",
    "print(X_init)"
   ]
  },
  {
   "cell_type": "markdown",
   "metadata": {},
   "source": [
    "# Generate notification time"
   ]
  },
  {
   "cell_type": "code",
   "execution_count": 101,
   "metadata": {},
   "outputs": [
    {
     "name": "stdout",
     "output_type": "stream",
     "text": [
      "2019-01-01 07:30:00\n"
     ]
    }
   ],
   "source": [
    "#X_init[0,0]\n",
    "import datetime\n",
    "year = '19'\n",
    "month = '01'\n",
    "day = '01'\n",
    "time = year+'/'+month+'/'+day+ ' ' + X_init[0,0]\n",
    "init_morning = datetime.datetime.strptime(time, \"%y/%m/%d %H:%M\")\n",
    "print(init_morning)\n",
    "time = year+'/'+month+'/'+day+ ' ' + X_init[0,1]\n",
    "init_afternoon = datetime.datetime.strptime(time, \"%y/%m/%d %H:%M\")\n",
    "\n",
    "time = year+'/'+month+'/'+day+ ' ' + X_init[0,2]\n",
    "init_evening = datetime.datetime.strptime(time, \"%y/%m/%d %H:%M\")\n",
    "\n",
    "time = year+'/'+month+'/'+day+ ' ' + X_init[0,3]\n",
    "init_wake = datetime.datetime.strptime(time, \"%y/%m/%d %H:%M\")\n",
    "\n",
    "time = year+'/'+month+'/'+day+ ' ' + X_init[0,4]\n",
    "init_sleep = datetime.datetime.strptime(time, \"%y/%m/%d %H:%M\")\n",
    "\n",
    "init = [init_morning,init_afternoon,init_evening,init_wake,init_sleep]\n"
   ]
  },
  {
   "cell_type": "code",
   "execution_count": 21,
   "metadata": {},
   "outputs": [],
   "source": [
    "notification_time = []\n",
    "for i,t in enumerate(init):\n",
    "    notification_time.append((t+timedelta(minutes = mean_X[i])).time() )# days, seconds, then other fields."
   ]
  },
  {
   "cell_type": "code",
   "execution_count": 44,
   "metadata": {},
   "outputs": [
    {
     "name": "stdout",
     "output_type": "stream",
     "text": [
      "07:41:00\n",
      "11:56:00\n",
      "17:59:00\n",
      "06:41:00\n",
      "10:21:00\n"
     ]
    }
   ],
   "source": [
    "res = []\n",
    "for i in range(len(notification_time)):\n",
    "    res.append(notification_time[i])\n",
    "\n",
    "print(res[0])\n",
    "print(res[1])\n",
    "print(res[2])\n",
    "print(res[3])\n",
    "print(res[4])"
   ]
  },
  {
   "cell_type": "code",
   "execution_count": null,
   "metadata": {},
   "outputs": [],
   "source": []
  }
 ],
 "metadata": {
  "kernelspec": {
   "display_name": "py36",
   "language": "python",
   "name": "py36"
  },
  "language_info": {
   "codemirror_mode": {
    "name": "ipython",
    "version": 3
   },
   "file_extension": ".py",
   "mimetype": "text/x-python",
   "name": "python",
   "nbconvert_exporter": "python",
   "pygments_lexer": "ipython3",
   "version": "3.6.6"
  }
 },
 "nbformat": 4,
 "nbformat_minor": 2
}
