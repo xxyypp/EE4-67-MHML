{
 "cells": [
  {
   "cell_type": "code",
   "execution_count": 18,
   "metadata": {},
   "outputs": [],
   "source": [
    "import matplotlib.pyplot as plt\n",
    "import numpy as np\n",
    "from sklearn.preprocessing import PolynomialFeatures\n",
    "from sklearn.linear_model import LinearRegression\n",
    "import csv\n",
    "from sklearn.model_selection import train_test_split\n",
    "from sklearn.metrics import mean_squared_error, r2_score\n",
    "from sklearn.preprocessing import PolynomialFeatures\n",
    "from sklearn.linear_model import LogisticRegression\n",
    "from sklearn import tree\n",
    "from sklearn.tree import DecisionTreeRegressor\n",
    "from datetime import datetime, date, time,timedelta"
   ]
  },
  {
   "cell_type": "code",
   "execution_count": 2,
   "metadata": {},
   "outputs": [],
   "source": [
    "class classGetData():\n",
    "    def __init__(self,fileloc):\n",
    "        self.loc = fileloc\n",
    "        print('Init...')\n",
    "        \n",
    "\n",
    "    def readCSV(self):\n",
    "        #data1 = open('./data/test.csv')\n",
    "        print('Reading...')\n",
    "        file_open = open(self.loc)\n",
    "        datareader = csv.reader(file_open,delimiter= ',')\n",
    "        data_arr = []\n",
    "        for row in datareader:\n",
    "            data_arr.append(row)\n",
    "\n",
    "        arr = np.array(data_arr)\n",
    "        #arr = arr[1:,:]\n",
    "        print('Done...')\n",
    "        return arr"
   ]
  },
  {
   "cell_type": "code",
   "execution_count": 3,
   "metadata": {},
   "outputs": [],
   "source": [
    "def read_data(loc_in):\n",
    "    a = classGetData(loc_in)\n",
    "    data1 = a.readCSV()\n",
    "    return data1"
   ]
  },
  {
   "cell_type": "code",
   "execution_count": 4,
   "metadata": {},
   "outputs": [
    {
     "name": "stdout",
     "output_type": "stream",
     "text": [
      "0:59:11\n"
     ]
    }
   ],
   "source": [
    "from datetime import datetime\n",
    "s1 = '10:04:00'\n",
    "s2 = '11:03:11' # for example\n",
    "format = '%H:%M:%S'\n",
    "time = datetime.strptime(s2, format) - datetime.strptime(s1, format)\n",
    "print (time)"
   ]
  },
  {
   "cell_type": "markdown",
   "metadata": {},
   "source": [
    "# Training data"
   ]
  },
  {
   "cell_type": "code",
   "execution_count": 5,
   "metadata": {},
   "outputs": [
    {
     "name": "stdout",
     "output_type": "stream",
     "text": [
      "Init...\n",
      "Reading...\n",
      "Done...\n",
      "Init...\n",
      "Reading...\n",
      "Done...\n",
      "Init...\n",
      "Reading...\n",
      "Done...\n"
     ]
    }
   ],
   "source": [
    "#'''Daily questionnaires'''\n",
    "questionnaires = './que.csv'\n",
    "raw = read_data(questionnaires)\n",
    "raw_data = raw[1:,1:]\n",
    "title = raw[0,1:]\n",
    "X_que = raw_data.copy()\n",
    "X_que = X_que.astype(float)\n",
    "\n",
    "#'''Initial setting'''\n",
    "init = './init.csv' # morning, afternoon, evening, wake, sleep\n",
    "raw = read_data(init)\n",
    "raw_data = raw[1:,:]\n",
    "\n",
    "X_init = raw_data.copy()\n",
    "#X_init = X_init.astype(float)\n",
    "\n",
    "#'''Reminder Ranking wrt daily questionnaires'''\n",
    "notifi = './notification_lvl.csv'\n",
    "raw = read_data(notifi)\n",
    "raw_data = raw[1:,1:]\n",
    "\n",
    "y_notifi = raw_data.copy()\n",
    "y_notifi = y_notifi.astype(float)"
   ]
  },
  {
   "cell_type": "markdown",
   "metadata": {},
   "source": [
    "# Training Validation Test split"
   ]
  },
  {
   "cell_type": "code",
   "execution_count": 6,
   "metadata": {},
   "outputs": [],
   "source": [
    "X_train, X_test, y_train, y_test = train_test_split(X_que[:,:3], y_notifi, test_size=0.2, random_state=42)\n"
   ]
  },
  {
   "cell_type": "code",
   "execution_count": 7,
   "metadata": {},
   "outputs": [],
   "source": [
    "def evaluation(y_predict, y_test):\n",
    "    print(\"Mean squared error: %.2f\" % mean_squared_error(y_test, y_predict))\n",
    "    # Explained variance score: 1 is perfect prediction\n",
    "    print('Variance score: %.2f' % r2_score(y_test, y_predict))"
   ]
  },
  {
   "cell_type": "markdown",
   "metadata": {},
   "source": [
    "# Notification is a classification problem:\n",
    "## Decision Tree Classification"
   ]
  },
  {
   "cell_type": "code",
   "execution_count": 8,
   "metadata": {},
   "outputs": [],
   "source": [
    "import graphviz\n",
    "from sklearn.metrics import accuracy_score"
   ]
  },
  {
   "cell_type": "code",
   "execution_count": 10,
   "metadata": {},
   "outputs": [],
   "source": [
    "clf = tree.DecisionTreeClassifier()\n",
    "clf = clf.fit(X_train.ravel().reshape(-1,1), y_train.ravel().reshape(-1,1))\n",
    "\n",
    "y_dec_predict = clf.predict(X_test.ravel().reshape(-1,1))"
   ]
  },
  {
   "cell_type": "code",
   "execution_count": 12,
   "metadata": {},
   "outputs": [
    {
     "name": "stdout",
     "output_type": "stream",
     "text": [
      "Accuracy 100.00%\n"
     ]
    }
   ],
   "source": [
    "dot_data = tree.export_graphviz(clf, out_file=None,\n",
    "                                class_names=['Level 1','Level 2','Level 3','Level 4','Level 5'], filled=True, \n",
    "                                rounded=True,special_characters=True) \n",
    "graph = graphviz.Source(dot_data) \n",
    "graph.render(\"decision\") \n",
    "graphviz.Source(dot_data).view()\n",
    "print('Accuracy {:.2f}%'.format(100*accuracy_score(y_test.ravel(), y_dec_predict)))"
   ]
  },
  {
   "cell_type": "markdown",
   "metadata": {},
   "source": [
    "# SVM"
   ]
  },
  {
   "cell_type": "code",
   "execution_count": 13,
   "metadata": {},
   "outputs": [
    {
     "name": "stdout",
     "output_type": "stream",
     "text": [
      "Accuracy 100.00%\n",
      "\n",
      "\n",
      "kernel  linear\n",
      "Accuracy 100.00%\n",
      "\n",
      "\n",
      "kernel  rbf\n",
      "Accuracy 100.00%\n",
      "\n",
      "\n",
      "kernel  sigmoid\n",
      "Accuracy 61.11%\n",
      "\n",
      "\n"
     ]
    },
    {
     "name": "stderr",
     "output_type": "stream",
     "text": [
      "D:\\Program\\Anaconda\\envs\\py36\\lib\\site-packages\\sklearn\\utils\\validation.py:752: DataConversionWarning: A column-vector y was passed when a 1d array was expected. Please change the shape of y to (n_samples, ), for example using ravel().\n",
      "  y = column_or_1d(y, warn=True)\n",
      "D:\\Program\\Anaconda\\envs\\py36\\lib\\site-packages\\sklearn\\utils\\validation.py:752: DataConversionWarning: A column-vector y was passed when a 1d array was expected. Please change the shape of y to (n_samples, ), for example using ravel().\n",
      "  y = column_or_1d(y, warn=True)\n",
      "D:\\Program\\Anaconda\\envs\\py36\\lib\\site-packages\\sklearn\\utils\\validation.py:752: DataConversionWarning: A column-vector y was passed when a 1d array was expected. Please change the shape of y to (n_samples, ), for example using ravel().\n",
      "  y = column_or_1d(y, warn=True)\n",
      "D:\\Program\\Anaconda\\envs\\py36\\lib\\site-packages\\sklearn\\utils\\validation.py:752: DataConversionWarning: A column-vector y was passed when a 1d array was expected. Please change the shape of y to (n_samples, ), for example using ravel().\n",
      "  y = column_or_1d(y, warn=True)\n"
     ]
    }
   ],
   "source": [
    "from sklearn import svm\n",
    "\n",
    "clf = svm.SVC(gamma='scale',decision_function_shape='ovo').fit(X_train.ravel().reshape(-1,1), y_train.ravel().reshape(-1,1))\n",
    "svm_predict = clf.predict(X_test.ravel().reshape(-1,1))\n",
    "print('Accuracy {:.2f}%'.format(100*accuracy_score(y_test.ravel(), svm_predict)))\n",
    "print('\\n')\n",
    "# Kernels\n",
    "kern = ['linear', 'rbf', 'sigmoid']\n",
    "\n",
    "for k in kern:\n",
    "    clf = svm.SVC(gamma='scale',decision_function_shape='ovo', kernel = k).fit(X_train.ravel().reshape(-1,1), y_train.ravel().reshape(-1,1))\n",
    "    svm_predict = clf.predict(X_test.ravel().reshape(-1,1))\n",
    "    print('kernel ', k)\n",
    "    print('Accuracy {:.2f}%'.format(100*accuracy_score(y_test.ravel(), svm_predict)))\n",
    "    print('\\n')\n"
   ]
  },
  {
   "cell_type": "markdown",
   "metadata": {},
   "source": [
    "# Nofitication Time¶"
   ]
  },
  {
   "cell_type": "code",
   "execution_count": 14,
   "metadata": {},
   "outputs": [
    {
     "name": "stdout",
     "output_type": "stream",
     "text": [
      "[ 11.  -4.  -1. -19.  -9.]\n",
      "[['7:30' '12:00' '18:00' '7:00' '10:30']]\n"
     ]
    }
   ],
   "source": [
    "mean_X = np.mean(X_que, axis = 0)\n",
    "print(mean_X)\n",
    "print(X_init)"
   ]
  },
  {
   "cell_type": "markdown",
   "metadata": {},
   "source": [
    "# Generate notification time"
   ]
  },
  {
   "cell_type": "code",
   "execution_count": 20,
   "metadata": {},
   "outputs": [],
   "source": [
    "#X_init[0,0]\n",
    "import datetime\n",
    "year = '19'\n",
    "month = '01'\n",
    "day = '01'\n",
    "time = year+'/'+month+'/'+day+ ' ' + X_init[0,0]\n",
    "init_morning = datetime.datetime.strptime(time, \"%y/%m/%d %H:%M\")\n",
    "\n",
    "time = year+'/'+month+'/'+day+ ' ' + X_init[0,1]\n",
    "init_afternoon = datetime.datetime.strptime(time, \"%y/%m/%d %H:%M\")\n",
    "\n",
    "time = year+'/'+month+'/'+day+ ' ' + X_init[0,2]\n",
    "init_evening = datetime.datetime.strptime(time, \"%y/%m/%d %H:%M\")\n",
    "\n",
    "time = year+'/'+month+'/'+day+ ' ' + X_init[0,3]\n",
    "init_wake = datetime.datetime.strptime(time, \"%y/%m/%d %H:%M\")\n",
    "\n",
    "time = year+'/'+month+'/'+day+ ' ' + X_init[0,4]\n",
    "init_sleep = datetime.datetime.strptime(time, \"%y/%m/%d %H:%M\")\n",
    "\n",
    "init = [init_morning,init_afternoon,init_evening,init_wake,init_sleep]\n"
   ]
  },
  {
   "cell_type": "code",
   "execution_count": 21,
   "metadata": {},
   "outputs": [],
   "source": [
    "notification_time = []\n",
    "for i,t in enumerate(init):\n",
    "    notification_time.append((t+timedelta(minutes = mean_X[i])).time() )# days, seconds, then other fields."
   ]
  },
  {
   "cell_type": "code",
   "execution_count": 22,
   "metadata": {},
   "outputs": [
    {
     "name": "stdout",
     "output_type": "stream",
     "text": [
      "07:41:00\n",
      "11:56:00\n",
      "17:59:00\n",
      "06:41:00\n",
      "10:21:00\n"
     ]
    }
   ],
   "source": [
    "res = []\n",
    "for i in range(len(notification_time)):\n",
    "    res.append(notification_time[i])\n",
    "\n",
    "print(res[0])\n",
    "print(res[1])\n",
    "print(res[2])\n",
    "print(res[3])\n",
    "print(res[4])"
   ]
  },
  {
   "cell_type": "code",
   "execution_count": null,
   "metadata": {},
   "outputs": [],
   "source": []
  }
 ],
 "metadata": {
  "kernelspec": {
   "display_name": "py36",
   "language": "python",
   "name": "py36"
  },
  "language_info": {
   "codemirror_mode": {
    "name": "ipython",
    "version": 3
   },
   "file_extension": ".py",
   "mimetype": "text/x-python",
   "name": "python",
   "nbconvert_exporter": "python",
   "pygments_lexer": "ipython3",
   "version": "3.6.6"
  }
 },
 "nbformat": 4,
 "nbformat_minor": 2
}
