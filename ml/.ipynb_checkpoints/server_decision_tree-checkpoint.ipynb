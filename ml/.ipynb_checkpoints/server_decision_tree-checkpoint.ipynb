{
 "cells": [
  {
   "cell_type": "code",
   "execution_count": 19,
   "metadata": {},
   "outputs": [],
   "source": [
    "import matplotlib.pyplot as plt\n",
    "import numpy as np\n",
    "from sklearn.preprocessing import PolynomialFeatures\n",
    "from sklearn.linear_model import LinearRegression\n",
    "import csv\n",
    "from sklearn.model_selection import train_test_split\n",
    "from sklearn.metrics import mean_squared_error, r2_score\n",
    "from sklearn.preprocessing import PolynomialFeatures\n",
    "from sklearn.linear_model import LogisticRegression\n",
    "from sklearn import tree\n",
    "from sklearn.tree import DecisionTreeRegressor\n",
    "from datetime import datetime, date, time,timedelta\n",
    "import pickle\n",
    "import sqlite3\n",
    "from sqlite3 import Error\n",
    "import datetime"
   ]
  },
  {
   "cell_type": "code",
   "execution_count": 25,
   "metadata": {},
   "outputs": [
    {
     "name": "stdout",
     "output_type": "stream",
     "text": [
      "('18:34', '18:34', '18:34', '18:34', '18:34')\n"
     ]
    }
   ],
   "source": [
    "def create_connection(db_file):\n",
    "\n",
    "    try:\n",
    "        conn = sqlite3.connect(db_file)\n",
    "        return conn\n",
    "    except Error as e:\n",
    "        print(e)\n",
    " \n",
    "    return None\n",
    "def get_db_Time(conn):\n",
    "    cur = conn.cursor()\n",
    "    cur.execute(\"SELECT Wake, Breakfast, Lunch, Dinner, Sleep From questions WHERE Name = 'Louis Kueh'\")\n",
    " \n",
    "    rows = cur.fetchall()\n",
    "    return rows\n",
    "\n",
    "# resources/storage.db\n",
    "database = './storage.db'\n",
    "conn = create_connection(database)\n",
    "with conn:\n",
    "    init_time = get_db_Time(conn)\n",
    "    \n",
    "print(init_time[0])"
   ]
  },
  {
   "cell_type": "code",
   "execution_count": 24,
   "metadata": {},
   "outputs": [
    {
     "name": "stdout",
     "output_type": "stream",
     "text": [
      "2019-01-01 18:34:00\n",
      "2019-01-01 18:34:00\n",
      "2019-01-01 18:34:00\n",
      "2019-01-01 18:34:00\n"
     ]
    }
   ],
   "source": [
    "year = '19'\n",
    "month = '01'\n",
    "day = '01'\n",
    "time = year+'/'+month+'/'+day+ ' ' + init_time[0][0]\n",
    "init_morning = datetime.datetime.strptime(time, \"%y/%m/%d %H:%M\")\n",
    "print(init_morning)\n",
    "\n",
    "time = year+'/'+month+'/'+day+ ' ' + init_time[0][1]\n",
    "init_morning = datetime.datetime.strptime(time, \"%y/%m/%d %H:%M\")\n",
    "print(init_morning)\n",
    "\n",
    "time = year+'/'+month+'/'+day+ ' ' + init_time[0][2]\n",
    "init_morning = datetime.datetime.strptime(time, \"%y/%m/%d %H:%M\")\n",
    "print(init_morning)\n",
    "\n",
    "time = year+'/'+month+'/'+day+ ' ' + init_time[0][3]\n",
    "init_morning = datetime.datetime.strptime(time, \"%y/%m/%d %H:%M\")\n",
    "print(init_morning)"
   ]
  },
  {
   "cell_type": "code",
   "execution_count": null,
   "metadata": {},
   "outputs": [],
   "source": [
    "#'''Daily questionnaires'''\n",
    "questionnaires = './que.csv'\n",
    "raw = read_data(questionnaires)\n",
    "raw_data = raw[1:,1:]\n",
    "title = raw[0,1:]\n",
    "X_que = raw_data.copy()\n",
    "X_que = X_que.astype(float)\n",
    "\n",
    "#'''Initial setting'''\n",
    "init = './init.csv' # morning, afternoon, evening, wake, sleep\n",
    "raw = read_data(init)\n",
    "raw_data = raw[1:,:]\n",
    "\n",
    "X_init = raw_data.copy()\n",
    "#X_init = X_init.astype(float)\n",
    "\n",
    "#'''Reminder Ranking wrt daily questionnaires'''\n",
    "notifi = './notification_lvl.csv'\n",
    "raw = read_data(notifi)\n",
    "raw_data = raw[1:,1:]\n",
    "\n",
    "y_notifi = raw_data.copy()\n",
    "y_notifi = y_notifi.astype(float)"
   ]
  },
  {
   "cell_type": "code",
   "execution_count": null,
   "metadata": {},
   "outputs": [],
   "source": [
    "#X_init[0,0]\n",
    "import datetime\n",
    "year = '19'\n",
    "month = '01'\n",
    "day = '01'\n",
    "time = year+'/'+month+'/'+day+ ' ' + X_init[0,0]\n",
    "init_morning = datetime.datetime.strptime(time, \"%y/%m/%d %H:%M\")\n",
    "print(init_morning)\n",
    "time = year+'/'+month+'/'+day+ ' ' + X_init[0,1]\n",
    "init_afternoon = datetime.datetime.strptime(time, \"%y/%m/%d %H:%M\")\n",
    "\n",
    "time = year+'/'+month+'/'+day+ ' ' + X_init[0,2]\n",
    "init_evening = datetime.datetime.strptime(time, \"%y/%m/%d %H:%M\")\n",
    "\n",
    "time = year+'/'+month+'/'+day+ ' ' + X_init[0,3]\n",
    "init_wake = datetime.datetime.strptime(time, \"%y/%m/%d %H:%M\")\n",
    "\n",
    "time = year+'/'+month+'/'+day+ ' ' + X_init[0,4]\n",
    "init_sleep = datetime.datetime.strptime(time, \"%y/%m/%d %H:%M\")\n",
    "\n",
    "init = [init_morning,init_afternoon,init_evening,init_wake,init_sleep]\n",
    "\n",
    "notification_time = []\n",
    "for i,t in enumerate(init):\n",
    "    notification_time.append((t+timedelta(minutes = mean_X[i])).time() )# days, seconds, then other fields.\n",
    "    \n",
    "res = []\n",
    "for i in range(len(notification_time)):\n",
    "    res.append(notification_time[i])\n",
    "\n",
    "print(res[0])\n",
    "print(res[1])\n",
    "print(res[2])\n",
    "print(res[3])\n",
    "print(res[4])"
   ]
  },
  {
   "cell_type": "code",
   "execution_count": null,
   "metadata": {},
   "outputs": [],
   "source": []
  }
 ],
 "metadata": {
  "kernelspec": {
   "display_name": "py36",
   "language": "python",
   "name": "py36"
  },
  "language_info": {
   "codemirror_mode": {
    "name": "ipython",
    "version": 3
   },
   "file_extension": ".py",
   "mimetype": "text/x-python",
   "name": "python",
   "nbconvert_exporter": "python",
   "pygments_lexer": "ipython3",
   "version": "3.6.6"
  }
 },
 "nbformat": 4,
 "nbformat_minor": 2
}
