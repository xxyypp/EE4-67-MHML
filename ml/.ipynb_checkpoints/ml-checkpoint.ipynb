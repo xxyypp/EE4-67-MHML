{
 "cells": [
  {
   "cell_type": "markdown",
   "metadata": {},
   "source": [
    "#### Current progress\n",
    "- Different ML algorithms\n",
    "- Model selection\n",
    "- Accuracy Calculation\n",
    "\n",
    "#### Problem\n",
    "- No real data -> use general machine learning dataset online about estimating the fire in a city\n",
    "    - For future improvement, preprocess the questionnaires data and put it into the current framework and see which ml algorithm is the best, and use this model for the notification prediction"
   ]
  },
  {
   "cell_type": "code",
   "execution_count": 1,
   "metadata": {},
   "outputs": [],
   "source": [
    "import matplotlib.pyplot as plt\n",
    "import numpy as np\n",
    "from sklearn.preprocessing import PolynomialFeatures\n",
    "from sklearn.linear_model import LinearRegression\n",
    "import csv\n",
    "from sklearn.model_selection import train_test_split\n",
    "from sklearn.metrics import mean_squared_error, r2_score\n",
    "from sklearn.preprocessing import PolynomialFeatures\n",
    "from sklearn.linear_model import LogisticRegression\n",
    "from sklearn import tree\n",
    "from sklearn.tree import DecisionTreeRegressor"
   ]
  },
  {
   "cell_type": "code",
   "execution_count": 2,
   "metadata": {},
   "outputs": [],
   "source": [
    "class classGetData():\n",
    "    def __init__(self,fileloc):\n",
    "        self.loc = fileloc\n",
    "        print('Init...')\n",
    "        \n",
    "\n",
    "    def readCSV(self):\n",
    "        #data1 = open('./data/test.csv')\n",
    "        print('Reading...')\n",
    "        file_open = open(self.loc)\n",
    "        datareader = csv.reader(file_open,delimiter= ',')\n",
    "        data_arr = []\n",
    "        for row in datareader:\n",
    "            data_arr.append(row)\n",
    "\n",
    "        arr = np.array(data_arr)\n",
    "        #arr = arr[1:,:]\n",
    "        print('Done...')\n",
    "        return arr"
   ]
  },
  {
   "cell_type": "code",
   "execution_count": 3,
   "metadata": {},
   "outputs": [],
   "source": [
    "def read_data(loc_in):\n",
    "    a = classGetData(loc_in)\n",
    "    data1 = a.readCSV()\n",
    "    return data1\n",
    "\n",
    "def convert_month_week(X):\n",
    "    X[X == 'jan'] = 1\n",
    "    X[X == 'feb'] = 2\n",
    "    X[X == 'mar'] = 3\n",
    "    X[X == 'apr'] = 4\n",
    "    X[X == 'may'] = 5\n",
    "    X[X == 'jun'] = 6\n",
    "    X[X == 'jul'] = 7\n",
    "    X[X == 'aug'] = 8\n",
    "    X[X == 'sep'] = 9\n",
    "    X[X == 'oct'] = 10\n",
    "    X[X == 'nov'] = 11\n",
    "    X[X == 'dec'] = 12\n",
    "    \n",
    "    X = convert_week(X)\n",
    "    return X\n",
    "\n",
    "def convert_week(X):\n",
    "    X[X == 'mon'] = 1\n",
    "    X[X == 'tue'] = 2\n",
    "    X[X == 'wed'] = 3\n",
    "    X[X == 'thu'] = 4\n",
    "    X[X == 'fri'] = 5\n",
    "    X[X == 'sat'] = 6\n",
    "    X[X == 'sun'] = 7\n",
    "    return X"
   ]
  },
  {
   "cell_type": "code",
   "execution_count": 4,
   "metadata": {
    "scrolled": false
   },
   "outputs": [
    {
     "name": "stdout",
     "output_type": "stream",
     "text": [
      "Init...\n",
      "Reading...\n",
      "Done...\n"
     ]
    }
   ],
   "source": [
    "loc = './forestfires.csv'\n",
    "raw = read_data(loc)\n",
    "raw_data = raw[1:,:]\n",
    "title = raw[0,:]\n",
    "\n",
    "#title = np.delete(title,[2,3],0) #remove month and date\n",
    "\n",
    "X = raw_data[:,:-1]\n",
    "X = convert_month_week(X)\n",
    "#X = np.delete(X,[2,3],1) #remove month and date\n",
    "y = raw_data[:,-1]\n",
    "y = convert_month_week(y)\n",
    "\n",
    "X = X.astype(float)\n",
    "y = y.astype(float)\n",
    "\n",
    "# binary case\n",
    "y[y.nonzero()] = 1"
   ]
  },
  {
   "cell_type": "markdown",
   "metadata": {},
   "source": [
    "# Training Validation Test split"
   ]
  },
  {
   "cell_type": "code",
   "execution_count": 5,
   "metadata": {},
   "outputs": [],
   "source": [
    "X_train, X_test, y_train, y_test = train_test_split(X, y, test_size=0.2, random_state=42)\n",
    "X_train_t, X_train_v, y_train_t, y_train_v = train_test_split(X_train, y_train, test_size=0.2, random_state=55)"
   ]
  },
  {
   "cell_type": "code",
   "execution_count": 68,
   "metadata": {},
   "outputs": [],
   "source": [
    "def evaluation(y_predict, y_test):\n",
    "    mse = mean_squared_error(y_test, y_predict)\n",
    "    #print(\"Mean squared error: %.2f\" % mse)\n",
    "    \n",
    "    # Explained variance score: 1 is perfect prediction\n",
    "    print('Variance score: %.2f' % r2_score(y_test, y_predict))\n",
    "    \n",
    "    print('Accuracy: {:.2f}% \\n'.format(100*(1-mse)))\n",
    "    return mse"
   ]
  },
  {
   "cell_type": "markdown",
   "metadata": {},
   "source": [
    "# Linear regression - model selection"
   ]
  },
  {
   "cell_type": "code",
   "execution_count": 70,
   "metadata": {
    "scrolled": false
   },
   "outputs": [
    {
     "name": "stderr",
     "output_type": "stream",
     "text": [
      "D:\\Program\\Anaconda\\envs\\py36\\lib\\site-packages\\sklearn\\svm\\base.py:196: FutureWarning: The default value of gamma will change from 'auto' to 'scale' in version 0.22 to account better for unscaled features. Set gamma explicitly to 'auto' or 'scale' to avoid this warning.\n",
      "  \"avoid this warning.\", FutureWarning)\n"
     ]
    },
    {
     "name": "stdout",
     "output_type": "stream",
     "text": [
      "Variance score: -0.01\n",
      "Accuracy: 74.68% \n",
      "\n",
      "Variance score: 0.01\n",
      "Accuracy: 75.34% \n",
      "\n",
      "Variance score: -0.00\n",
      "Accuracy: 75.01% \n",
      "\n",
      "Variance score: 0.03\n",
      "Accuracy: 75.73% \n",
      "\n",
      "Variance score: -0.93\n",
      "Accuracy: 51.76% \n",
      "\n"
     ]
    },
    {
     "name": "stderr",
     "output_type": "stream",
     "text": [
      "D:\\Program\\Anaconda\\envs\\py36\\lib\\site-packages\\sklearn\\linear_model\\stochastic_gradient.py:144: FutureWarning: max_iter and tol parameters have been added in PassiveAggressiveRegressor in 0.19. If both are left unset, they default to max_iter=5 and tol=None. If tol is not None, max_iter defaults to max_iter=1000. From 0.21, default max_iter will be 1000, and default tol will be 1e-3.\n",
      "  FutureWarning)\n"
     ]
    },
    {
     "name": "stdout",
     "output_type": "stream",
     "text": [
      "Variance score: -0.06\n",
      "Accuracy: 73.63% \n",
      "\n",
      "Variance score: 0.01\n",
      "Accuracy: 75.24% \n",
      "\n",
      "The best model for this would be: ARDRegression(alpha_1=1e-06, alpha_2=1e-06, compute_score=False, copy_X=True,\n",
      "       fit_intercept=True, lambda_1=1e-06, lambda_2=1e-06, n_iter=300,\n",
      "       normalize=False, threshold_lambda=10000.0, tol=0.001, verbose=False), \n",
      "with accuracy: 75.73%\n"
     ]
    }
   ],
   "source": [
    "from sklearn import linear_model\n",
    "from sklearn import svm\n",
    "\n",
    "classifiers = [\n",
    "    svm.SVR(),\n",
    "    #linear_model.SGDRegressor(),\n",
    "    linear_model.BayesianRidge(),\n",
    "    linear_model.LassoLars(),\n",
    "    linear_model.ARDRegression(),\n",
    "    linear_model.PassiveAggressiveRegressor(),\n",
    "    linear_model.TheilSenRegressor(),\n",
    "    linear_model.LinearRegression()]\n",
    "\n",
    "best_mse = float(10000)\n",
    "for item in classifiers:\n",
    "    #print(item)\n",
    "    model = item\n",
    "    model.fit(X_train_t, y_train_t)\n",
    "    y_predict = model.predict(X_test)\n",
    "    mse = evaluation(y_predict.reshape(-1,1), y_test.reshape(-1,1))\n",
    "\n",
    "    if (mse < best_mse):\n",
    "        best_mse = mse\n",
    "        best_model = item\n",
    "        \n",
    "    \n",
    "print('The best model for this would be: {}, \\nwith accuracy: {:.2f}%'.format(best_model, 100*(1-best_mse)))"
   ]
  },
  {
   "cell_type": "markdown",
   "metadata": {},
   "source": [
    "# Logestic regression"
   ]
  },
  {
   "cell_type": "code",
   "execution_count": 71,
   "metadata": {
    "scrolled": true
   },
   "outputs": [
    {
     "name": "stdout",
     "output_type": "stream",
     "text": [
      "Variance score: -0.65\n",
      "Accuracy: 58.65% \n",
      "\n"
     ]
    },
    {
     "name": "stderr",
     "output_type": "stream",
     "text": [
      "D:\\Program\\Anaconda\\envs\\py36\\lib\\site-packages\\sklearn\\linear_model\\logistic.py:757: ConvergenceWarning: lbfgs failed to converge. Increase the number of iterations.\n",
      "  \"of iterations.\", ConvergenceWarning)\n"
     ]
    }
   ],
   "source": [
    "clf = LogisticRegression(random_state=0, solver='lbfgs', multi_class='multinomial').fit(X_train_t,y_train_t)\n",
    "\n",
    "y_log_predict = clf.predict(X_test)\n",
    "\n",
    "mse = evaluation(y_log_predict, y_test)"
   ]
  },
  {
   "cell_type": "code",
   "execution_count": 72,
   "metadata": {
    "scrolled": true
   },
   "outputs": [
    {
     "name": "stdout",
     "output_type": "stream",
     "text": [
      "Variance score: -0.65\n",
      "Accuracy: 58.65% \n",
      "\n"
     ]
    },
    {
     "name": "stderr",
     "output_type": "stream",
     "text": [
      "D:\\Program\\Anaconda\\envs\\py36\\lib\\site-packages\\sklearn\\linear_model\\logistic.py:432: FutureWarning: Default solver will be changed to 'lbfgs' in 0.22. Specify a solver to silence this warning.\n",
      "  FutureWarning)\n"
     ]
    }
   ],
   "source": [
    "clf = LogisticRegression().fit(X_train_t,y_train_t)\n",
    "\n",
    "y_log_predict = clf.predict(X_test)\n",
    "\n",
    "mse = evaluation(y_log_predict, y_test)"
   ]
  },
  {
   "cell_type": "code",
   "execution_count": 73,
   "metadata": {},
   "outputs": [
    {
     "name": "stdout",
     "output_type": "stream",
     "text": [
      "0.5865384615384616\n"
     ]
    }
   ],
   "source": [
    "percentage = np.mean((y_log_predict) == (y_test))\n",
    "print(percentage)"
   ]
  },
  {
   "cell_type": "markdown",
   "metadata": {},
   "source": [
    "# Decision Tree Classification"
   ]
  },
  {
   "cell_type": "code",
   "execution_count": 74,
   "metadata": {},
   "outputs": [],
   "source": [
    "from sklearn import metrics\n",
    "def classification_evaluation(y_predict, y_test):\n",
    "    accuracy = metrics.accuracy_score(y_predict, y_test)\n",
    "    print('Accuracy = {:.2f}%'.format(100*accuracy))\n",
    "    \n",
    "    return 100*accuracy"
   ]
  },
  {
   "cell_type": "code",
   "execution_count": 75,
   "metadata": {},
   "outputs": [],
   "source": [
    "import graphviz"
   ]
  },
  {
   "cell_type": "code",
   "execution_count": 76,
   "metadata": {},
   "outputs": [
    {
     "name": "stdout",
     "output_type": "stream",
     "text": [
      "Variance score: -0.46\n",
      "Accuracy: 63.46% \n",
      "\n",
      "Accuracy = 63.46%\n"
     ]
    }
   ],
   "source": [
    "clf = tree.DecisionTreeClassifier()\n",
    "clf = clf.fit(X_train_t, y_train_t)\n",
    "\n",
    "y_dec_predict = clf.predict(X_test)\n",
    "\n",
    "evaluation(y_dec_predict.reshape(-1,1), y_test.reshape(-1,1))\n",
    "acc = classification_evaluation(y_dec_predict.reshape(-1,1), y_test.reshape(-1,1))"
   ]
  },
  {
   "cell_type": "code",
   "execution_count": 54,
   "metadata": {},
   "outputs": [
    {
     "data": {
      "text/plain": [
       "'Source.gv.pdf'"
      ]
     },
     "execution_count": 54,
     "metadata": {},
     "output_type": "execute_result"
    }
   ],
   "source": [
    "dot_data = tree.export_graphviz(clf, out_file=None,feature_names=title[:-1],\n",
    "                                class_names=['0','1'], filled=True, \n",
    "                                rounded=True,special_characters=True) \n",
    "graph = graphviz.Source(dot_data) \n",
    "graph.render(\"decision\") \n",
    "graphviz.Source(dot_data).view()"
   ]
  },
  {
   "cell_type": "markdown",
   "metadata": {},
   "source": [
    "# SVM - classification"
   ]
  },
  {
   "cell_type": "code",
   "execution_count": 77,
   "metadata": {},
   "outputs": [
    {
     "name": "stdout",
     "output_type": "stream",
     "text": [
      "General SVC\n",
      "Accuracy = 61.54%\n",
      "\n",
      "\n",
      "kernel  linear\n",
      "Accuracy = 60.58%\n",
      "\n",
      "\n",
      "kernel  rbf\n",
      "Accuracy = 61.54%\n",
      "\n",
      "\n",
      "kernel  sigmoid\n",
      "Accuracy = 50.96%\n",
      "\n",
      "\n",
      "Best SVC model is: rbf, \n",
      "with accuracy = 61.54%\n"
     ]
    }
   ],
   "source": [
    "from sklearn import svm\n",
    "\n",
    "print('General SVC')\n",
    "clf = svm.SVC(gamma='scale',decision_function_shape='ovo').fit(X_train_t, y_train_t)\n",
    "svm_predict = clf.predict(X_test)\n",
    "acc = classification_evaluation(y_test, svm_predict)\n",
    "print('\\n')\n",
    "# Kernels\n",
    "kern = ['linear', 'rbf', 'sigmoid']\n",
    "\n",
    "best_acc = acc\n",
    "best_svc_model = 'General'\n",
    "for k in kern:\n",
    "    clf = svm.SVC(gamma='scale',decision_function_shape='ovo', kernel = k).fit(X_train_t, y_train_t)\n",
    "    svm_predict = clf.predict(X_test)\n",
    "    print('kernel ', k)\n",
    "    acc = classification_evaluation(y_test, svm_predict)\n",
    "    if(acc >= best_acc):\n",
    "        best_svc_model = k\n",
    "        best_acc = acc\n",
    "    print('\\n')\n",
    "\n",
    "print('Best SVC model is: {}, \\nwith accuracy = {:.2f}%'.format(best_svc_model,best_acc))\n",
    "#clf = svm.SVC(gamma='scale').fit(X_train_t, y_train_t)\n",
    "\n"
   ]
  },
  {
   "cell_type": "markdown",
   "metadata": {},
   "source": [
    "# SVM - Regression"
   ]
  },
  {
   "cell_type": "code",
   "execution_count": 78,
   "metadata": {},
   "outputs": [
    {
     "name": "stdout",
     "output_type": "stream",
     "text": [
      "Variance score: -1.96\n",
      "Accuracy: 72.17% \n",
      "\n"
     ]
    }
   ],
   "source": [
    "from sklearn import svm\n",
    "\n",
    "clf = svm.SVR(gamma='scale').fit(X_train_t, y_train_t)\n",
    "#clf = svm.SVC(gamma='scale').fit(X_train_t, y_train_t)\n",
    "\n",
    "svm_predict = clf.predict(X_test)\n",
    "\n",
    "acc = evaluation(y_test, svm_predict)"
   ]
  },
  {
   "cell_type": "code",
   "execution_count": null,
   "metadata": {},
   "outputs": [],
   "source": []
  }
 ],
 "metadata": {
  "kernelspec": {
   "display_name": "py36",
   "language": "python",
   "name": "py36"
  },
  "language_info": {
   "codemirror_mode": {
    "name": "ipython",
    "version": 3
   },
   "file_extension": ".py",
   "mimetype": "text/x-python",
   "name": "python",
   "nbconvert_exporter": "python",
   "pygments_lexer": "ipython3",
   "version": "3.6.6"
  }
 },
 "nbformat": 4,
 "nbformat_minor": 2
}
