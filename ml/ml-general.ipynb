{
 "cells": [
  {
   "cell_type": "code",
   "execution_count": 1,
   "metadata": {},
   "outputs": [],
   "source": [
    "import matplotlib.pyplot as plt\n",
    "import numpy as np\n",
    "from sklearn.preprocessing import PolynomialFeatures\n",
    "from sklearn.linear_model import LinearRegression\n",
    "import csv\n",
    "from sklearn.model_selection import train_test_split\n",
    "from sklearn.metrics import mean_squared_error, r2_score\n",
    "from sklearn.preprocessing import PolynomialFeatures\n",
    "from sklearn.linear_model import LogisticRegression\n",
    "from sklearn import tree\n",
    "from sklearn.tree import DecisionTreeRegressor\n",
    "from sklearn import preprocessing\n",
    "from sklearn import utils"
   ]
  },
  {
   "cell_type": "code",
   "execution_count": 2,
   "metadata": {},
   "outputs": [],
   "source": [
    "class classGetData():\n",
    "    def __init__(self,fileloc):\n",
    "        self.loc = fileloc\n",
    "        print('Init...')\n",
    "        \n",
    "\n",
    "    def readCSV(self):\n",
    "        #data1 = open('./data/test.csv')\n",
    "        print('Reading...')\n",
    "        file_open = open(self.loc)\n",
    "        datareader = csv.reader(file_open,delimiter= ',')\n",
    "        data_arr = []\n",
    "        for row in datareader:\n",
    "            data_arr.append(row)\n",
    "\n",
    "        arr = np.array(data_arr)\n",
    "        #arr = arr[1:,:]\n",
    "        print('Done...')\n",
    "        return arr"
   ]
  },
  {
   "cell_type": "code",
   "execution_count": 3,
   "metadata": {},
   "outputs": [],
   "source": [
    "def read_data(loc_in):\n",
    "    a = classGetData(loc_in)\n",
    "    data1 = a.readCSV()\n",
    "    return data1\n",
    "\n",
    "def convert_month_week(X):\n",
    "    X[X == 'jan'] = 1\n",
    "    X[X == 'feb'] = 2\n",
    "    X[X == 'mar'] = 3\n",
    "    X[X == 'apr'] = 4\n",
    "    X[X == 'may'] = 5\n",
    "    X[X == 'jun'] = 6\n",
    "    X[X == 'jul'] = 7\n",
    "    X[X == 'aug'] = 8\n",
    "    X[X == 'sep'] = 9\n",
    "    X[X == 'oct'] = 10\n",
    "    X[X == 'nov'] = 11\n",
    "    X[X == 'dec'] = 12\n",
    "    \n",
    "    X = convert_week(X)\n",
    "    return X\n",
    "\n",
    "def convert_week(X):\n",
    "    X[X == 'mon'] = 1\n",
    "    X[X == 'tue'] = 2\n",
    "    X[X == 'wed'] = 3\n",
    "    X[X == 'thu'] = 4\n",
    "    X[X == 'fri'] = 5\n",
    "    X[X == 'sat'] = 6\n",
    "    X[X == 'sun'] = 7\n",
    "    return X"
   ]
  },
  {
   "cell_type": "code",
   "execution_count": 20,
   "metadata": {
    "scrolled": false
   },
   "outputs": [
    {
     "name": "stdout",
     "output_type": "stream",
     "text": [
      "Init...\n",
      "Reading...\n",
      "Done...\n"
     ]
    }
   ],
   "source": [
    "loc = './forestfires.csv'\n",
    "raw = read_data(loc)\n",
    "raw_data = raw[1:,:]\n",
    "title = raw[0,:]\n",
    "\n",
    "#title = np.delete(title,[2,3],0) #remove month and date\n",
    "\n",
    "X = raw_data[:,:-1]\n",
    "X = convert_month_week(X)\n",
    "#X = np.delete(X,[2,3],1) #remove month and date\n",
    "y = raw_data[:,-1]\n",
    "\n",
    "X = X.astype(float)\n",
    "y_ = y.astype(float)\n",
    "\n",
    "#convert label y to something useable\n",
    "le = preprocessing.LabelEncoder()\n",
    "y = le.fit_transform(y_)\n",
    "\n",
    "# binary case\n",
    "#y[y.nonzero()] = 1"
   ]
  },
  {
   "cell_type": "code",
   "execution_count": 21,
   "metadata": {},
   "outputs": [
    {
     "data": {
      "text/plain": [
       "array([  0,   0,   0,   0,   0,   0,   0,   0,   0,   0,   0,   0,   0,\n",
       "         0,   0,   0,   0,   0,   0,   0,   0,   0,   0,   0,   0,   0,\n",
       "         0,   0,   0,   0,   0,   0,   0,   0,   0,   0,   0,   0,   0,\n",
       "         0,   0,   0,   0,   0,   0,   0,   0,   0,   0,   0,   0,   0,\n",
       "         0,   0,   0,   0,   0,   0,   0,   0,   0,   0,   0,   0,   0,\n",
       "         0,   0,   0,   0,   0,   0,   0,   0,   0,   0,   0,   0,   0,\n",
       "         0,   0,   0,   0,   0,   0,   0,   0,   0,   0,   0,   0,   0,\n",
       "         0,   0,   0,   0,   0,   0,   0,   0,   0,   0,   0,   0,   0,\n",
       "         0,   0,   0,   0,   0,   0,   0,   0,   0,   0,   0,   0,   0,\n",
       "         0,   0,   0,   0,   0,   0,   0,   0,   0,   0,   0,   0,   0,\n",
       "         0,   0,   0,   0,   0,   0,   0,   0,   6,   8,   9,  12,  13,\n",
       "        15,  19,  21,  22,  23,  25,  28,  29,  33,  35,  36,  36,  39,\n",
       "        41,  42,  43,  44,  46,  48,  49,  50,  52,  56,  60,  64,  65,\n",
       "        66,  67,  69,  70,  76,  85,  98,  99, 101, 102, 106, 107, 110,\n",
       "       121, 128, 130, 132, 133, 135, 138, 146, 147, 149, 150, 154, 158,\n",
       "       159, 165, 166, 170, 171, 172, 173, 176, 178, 179, 181, 184, 189,\n",
       "       192, 195, 196, 200, 201, 203, 205, 205, 207, 209, 210, 211, 212,\n",
       "       214, 215, 216, 217, 224, 225, 230, 232, 235, 238, 239, 240, 241,\n",
       "       242, 245, 246, 247, 250,   0,   0,   0, 161,   0,  73,  18,   1,\n",
       "        17,   0,  63,  14,   4,   3,  38, 162,   0, 143,  14,   0,  34,\n",
       "       151,  81,  94,  39, 124,  20,   2,   0,   0,  95,  10, 153,  77,\n",
       "       152, 168, 108, 190, 163, 194, 156, 153, 199,   0,  27, 197,   0,\n",
       "         0,   0,   0,   0,   0, 142,  68, 237, 125,   0,  21,   0,   0,\n",
       "         0,   0,  86,   0,   0,   0,   0,   7, 105,   0,   0,   0, 180,\n",
       "         0,   0,  40,   0,   0,  90,   0,  96, 213, 134,  24,  58,  97,\n",
       "         0,   0,   0,   0,  83, 126, 185, 169,  55,   0,   0,   0, 229,\n",
       "       139,  37,  91,   0,   0,  58, 118, 114, 204,   0,   0,  43,  89,\n",
       "       136,  53,  45, 116, 177,  31,   0,   0, 144,  26,  92,  10,  74,\n",
       "       112, 193,  46,   0, 175,   0, 166,   0,   0,   0, 191, 219,   0,\n",
       "       243,   0,   0, 140, 187, 115, 221, 174, 186, 198,   0, 206,   0,\n",
       "       157, 208, 234,   0,   0, 227,  88,  87,   0,   0, 145, 103,   0,\n",
       "         0, 117,   0,  93,   0, 141,   0,   0, 100,  42,   0,   0, 249,\n",
       "       131,   0,  62,  75, 244,   0, 119,  16, 104,   0,   0,  61,   0,\n",
       "        80,   0, 120,   0, 183,   0,   0,  11,   0, 122,   5,   0,  30,\n",
       "        84,   0, 157,   0,   0,   0,   0,   0, 122, 155,   0,   0,   0,\n",
       "         0,   0, 236,  82,  49,   0,   0,  89, 109,  56, 129,  78, 111,\n",
       "       127, 231,   0, 218,  49, 233, 160,  79,  47, 137,  59, 248,  71,\n",
       "         0,  32,   0, 202,  54,  51, 188, 223,   0,   0,   0,   0, 222,\n",
       "       148,   0,  72, 182, 220, 164,   0,   0,   0,  50, 226, 113,   0,\n",
       "         0,   0,  57,   8,   0, 123, 228, 167,   0,   0], dtype=int64)"
      ]
     },
     "execution_count": 21,
     "metadata": {},
     "output_type": "execute_result"
    }
   ],
   "source": [
    "y"
   ]
  },
  {
   "cell_type": "markdown",
   "metadata": {},
   "source": [
    "# Training Validation Test split"
   ]
  },
  {
   "cell_type": "code",
   "execution_count": 22,
   "metadata": {},
   "outputs": [],
   "source": [
    "X_train, X_test, y_train, y_test = train_test_split(X, y, test_size=0.2, random_state=42)\n",
    "X_train_t, X_train_v, y_train_t, y_train_v = train_test_split(X_train, y_train, test_size=0.2, random_state=55)\n",
    "\n"
   ]
  },
  {
   "cell_type": "code",
   "execution_count": 27,
   "metadata": {},
   "outputs": [],
   "source": [
    "def evaluation(y_predict, y_test):\n",
    "    mse = mean_squared_error(y_test, y_predict)\n",
    "    print(\"Mean squared error: %.2f\" % mse)\n",
    "    # Explained variance score: 1 is perfect prediction\n",
    "    print('Variance score: %.2f' % r2_score(y_test, y_predict))\n",
    "    print(y_predict == y_test)\n",
    "    print('Accuracy: %.2f'%(1-mse))"
   ]
  },
  {
   "cell_type": "markdown",
   "metadata": {},
   "source": [
    "# Linear regression"
   ]
  },
  {
   "cell_type": "code",
   "execution_count": 29,
   "metadata": {},
   "outputs": [
    {
     "name": "stderr",
     "output_type": "stream",
     "text": [
      "D:\\Program\\Anaconda\\envs\\py36\\lib\\site-packages\\sklearn\\svm\\base.py:196: FutureWarning: The default value of gamma will change from 'auto' to 'scale' in version 0.22 to account better for unscaled features. Set gamma explicitly to 'auto' or 'scale' to avoid this warning.\n",
      "  \"avoid this warning.\", FutureWarning)\n"
     ]
    },
    {
     "name": "stdout",
     "output_type": "stream",
     "text": [
      "\n",
      "\n",
      "\n",
      "\n",
      "\n",
      "\n",
      "\n",
      "\n",
      "\n",
      "\n"
     ]
    },
    {
     "name": "stderr",
     "output_type": "stream",
     "text": [
      "D:\\Program\\Anaconda\\envs\\py36\\lib\\site-packages\\sklearn\\linear_model\\stochastic_gradient.py:144: FutureWarning: max_iter and tol parameters have been added in PassiveAggressiveRegressor in 0.19. If both are left unset, they default to max_iter=5 and tol=None. If tol is not None, max_iter defaults to max_iter=1000. From 0.21, default max_iter will be 1000, and default tol will be 1e-3.\n",
      "  FutureWarning)\n"
     ]
    },
    {
     "name": "stdout",
     "output_type": "stream",
     "text": [
      "\n",
      "\n",
      "\n",
      "\n"
     ]
    }
   ],
   "source": [
    "from sklearn import linear_model\n",
    "from sklearn import svm\n",
    "\n",
    "classifiers = [\n",
    "    svm.SVR(),\n",
    "    linear_model.BayesianRidge(),\n",
    "    linear_model.LassoLars(),\n",
    "    linear_model.ARDRegression(),\n",
    "    linear_model.PassiveAggressiveRegressor(),\n",
    "    linear_model.TheilSenRegressor(),\n",
    "    linear_model.LinearRegression()]\n",
    "\n",
    "\n",
    "for item in classifiers:\n",
    "    #print(item)\n",
    "    clf = item\n",
    "    clf.fit(X_train_t, y_train_t)\n",
    "    y_predict = clf.predict(X_test)\n",
    "    evaluation(y_predict.reshape(-1,1), y_test.reshape(-1,1))\n",
    "    print('\\n')"
   ]
  },
  {
   "cell_type": "code",
   "execution_count": 30,
   "metadata": {
    "scrolled": false
   },
   "outputs": [
    {
     "name": "stdout",
     "output_type": "stream",
     "text": [
      "Mean squared error: 6787.97\n",
      "Variance score: 0.00\n",
      "[[False]\n",
      " [False]\n",
      " [False]\n",
      " [False]\n",
      " [False]\n",
      " [False]\n",
      " [False]\n",
      " [False]\n",
      " [False]\n",
      " [False]\n",
      " [False]\n",
      " [False]\n",
      " [False]\n",
      " [False]\n",
      " [False]\n",
      " [False]\n",
      " [False]\n",
      " [False]\n",
      " [False]\n",
      " [False]\n",
      " [False]\n",
      " [False]\n",
      " [False]\n",
      " [False]\n",
      " [False]\n",
      " [False]\n",
      " [False]\n",
      " [False]\n",
      " [False]\n",
      " [False]\n",
      " [False]\n",
      " [False]\n",
      " [False]\n",
      " [False]\n",
      " [False]\n",
      " [False]\n",
      " [False]\n",
      " [False]\n",
      " [False]\n",
      " [False]\n",
      " [False]\n",
      " [False]\n",
      " [False]\n",
      " [False]\n",
      " [False]\n",
      " [False]\n",
      " [False]\n",
      " [False]\n",
      " [False]\n",
      " [False]\n",
      " [False]\n",
      " [False]\n",
      " [False]\n",
      " [False]\n",
      " [False]\n",
      " [False]\n",
      " [False]\n",
      " [False]\n",
      " [False]\n",
      " [False]\n",
      " [False]\n",
      " [False]\n",
      " [False]\n",
      " [False]\n",
      " [False]\n",
      " [False]\n",
      " [False]\n",
      " [False]\n",
      " [False]\n",
      " [False]\n",
      " [False]\n",
      " [False]\n",
      " [False]\n",
      " [False]\n",
      " [False]\n",
      " [False]\n",
      " [False]\n",
      " [False]\n",
      " [False]\n",
      " [False]\n",
      " [False]\n",
      " [False]\n",
      " [False]\n",
      " [False]\n",
      " [False]\n",
      " [False]\n",
      " [False]\n",
      " [False]\n",
      " [False]\n",
      " [False]\n",
      " [False]\n",
      " [False]\n",
      " [False]\n",
      " [False]\n",
      " [False]\n",
      " [False]\n",
      " [False]\n",
      " [False]\n",
      " [False]\n",
      " [False]\n",
      " [False]\n",
      " [False]\n",
      " [False]\n",
      " [False]]\n",
      "Accuracy: -6786.97\n"
     ]
    }
   ],
   "source": [
    "lin_model=LinearRegression().fit(X_train_t,y_train_t)\n",
    "\n",
    "y_predict = lin_model.predict(X_test)\n",
    "\n",
    "evaluation(y_predict.reshape(-1,1), y_test.reshape(-1,1))"
   ]
  },
  {
   "cell_type": "markdown",
   "metadata": {},
   "source": [
    "# Logestic regression"
   ]
  },
  {
   "cell_type": "code",
   "execution_count": 10,
   "metadata": {},
   "outputs": [
    {
     "name": "stdout",
     "output_type": "stream",
     "text": [
      "Mean squared error: 0.25\n",
      "Variance score: 0.01\n",
      "Accuracy: 0.75\n"
     ]
    },
    {
     "name": "stderr",
     "output_type": "stream",
     "text": [
      "D:\\Program\\Anaconda\\envs\\py36\\lib\\site-packages\\sklearn\\linear_model\\logistic.py:757: ConvergenceWarning: lbfgs failed to converge. Increase the number of iterations.\n",
      "  \"of iterations.\", ConvergenceWarning)\n"
     ]
    }
   ],
   "source": [
    "clf = LogisticRegression(random_state=0, solver='lbfgs', multi_class='multinomial').fit(X_train_t,y_train_t)\n",
    "\n",
    "y_log_predict = clf.predict(X_test)\n",
    "\n",
    "evaluation(y_predict, y_test)"
   ]
  },
  {
   "cell_type": "markdown",
   "metadata": {},
   "source": [
    "# Decision Tree Classification"
   ]
  },
  {
   "cell_type": "code",
   "execution_count": 11,
   "metadata": {},
   "outputs": [],
   "source": [
    "import graphviz"
   ]
  },
  {
   "cell_type": "code",
   "execution_count": 12,
   "metadata": {},
   "outputs": [],
   "source": [
    "clf = tree.DecisionTreeClassifier()\n",
    "clf = clf.fit(X_train_t, y_train_t)\n",
    "\n",
    "y_dec_predict = clf.predict(X_test)\n",
    "\n"
   ]
  },
  {
   "cell_type": "code",
   "execution_count": 13,
   "metadata": {},
   "outputs": [
    {
     "data": {
      "text/plain": [
       "'Source.gv.pdf'"
      ]
     },
     "execution_count": 13,
     "metadata": {},
     "output_type": "execute_result"
    }
   ],
   "source": [
    "dot_data = tree.export_graphviz(clf, out_file=None,feature_names=title[:-1],\n",
    "                                class_names=['0','1'], filled=True, \n",
    "                                rounded=True,special_characters=True) \n",
    "graph = graphviz.Source(dot_data) \n",
    "graph.render(\"decision\") \n",
    "graphviz.Source(dot_data).view()"
   ]
  },
  {
   "cell_type": "markdown",
   "metadata": {},
   "source": [
    "# SVM - classification"
   ]
  },
  {
   "cell_type": "code",
   "execution_count": 14,
   "metadata": {},
   "outputs": [
    {
     "name": "stdout",
     "output_type": "stream",
     "text": [
      "Mean squared error: 0.38\n",
      "Variance score: -0.57\n",
      "Accuracy: 0.62\n",
      "\n",
      "\n",
      "kernel  linear\n",
      "Mean squared error: 0.39\n",
      "Variance score: -0.60\n",
      "Accuracy: 0.61\n",
      "\n",
      "\n",
      "kernel  rbf\n",
      "Mean squared error: 0.38\n",
      "Variance score: -0.57\n",
      "Accuracy: 0.62\n",
      "\n",
      "\n",
      "kernel  sigmoid\n",
      "Mean squared error: 0.49\n",
      "Variance score: 0.00\n",
      "Accuracy: 0.51\n",
      "\n",
      "\n"
     ]
    }
   ],
   "source": [
    "from sklearn import svm\n",
    "\n",
    "clf = svm.SVC(gamma='scale',decision_function_shape='ovo').fit(X_train_t, y_train_t)\n",
    "svm_predict = clf.predict(X_test)\n",
    "evaluation(y_test, svm_predict)\n",
    "print('\\n')\n",
    "# Kernels\n",
    "kern = ['linear', 'rbf', 'sigmoid']\n",
    "\n",
    "for k in kern:\n",
    "    clf = svm.SVC(gamma='scale',decision_function_shape='ovo', kernel = k).fit(X_train_t, y_train_t)\n",
    "    svm_predict = clf.predict(X_test)\n",
    "    print('kernel ', k)\n",
    "    evaluation(y_test, svm_predict)\n",
    "    print('\\n')\n",
    "    \n",
    "  \n",
    "\n",
    "#clf = svm.SVC(gamma='scale').fit(X_train_t, y_train_t)\n",
    "\n"
   ]
  },
  {
   "cell_type": "markdown",
   "metadata": {},
   "source": [
    "# SVM - Regression"
   ]
  },
  {
   "cell_type": "code",
   "execution_count": 15,
   "metadata": {},
   "outputs": [
    {
     "name": "stdout",
     "output_type": "stream",
     "text": [
      "Mean squared error: 0.28\n",
      "Variance score: -1.96\n",
      "Accuracy: 0.72\n"
     ]
    }
   ],
   "source": [
    "from sklearn import svm\n",
    "\n",
    "clf = svm.SVR(gamma='scale').fit(X_train_t, y_train_t)\n",
    "#clf = svm.SVC(gamma='scale').fit(X_train_t, y_train_t)\n",
    "\n",
    "svm_predict = clf.predict(X_test)\n",
    "\n",
    "evaluation(y_test, svm_predict)"
   ]
  }
 ],
 "metadata": {
  "kernelspec": {
   "display_name": "py36",
   "language": "python",
   "name": "py36"
  },
  "language_info": {
   "codemirror_mode": {
    "name": "ipython",
    "version": 3
   },
   "file_extension": ".py",
   "mimetype": "text/x-python",
   "name": "python",
   "nbconvert_exporter": "python",
   "pygments_lexer": "ipython3",
   "version": "3.6.6"
  }
 },
 "nbformat": 4,
 "nbformat_minor": 2
}
