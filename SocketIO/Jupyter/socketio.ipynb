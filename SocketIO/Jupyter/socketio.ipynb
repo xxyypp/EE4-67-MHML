{
 "cells": [
  {
   "cell_type": "markdown",
   "metadata": {},
   "source": [
    "- What is your role in the project exactly? (estimated length of reply - 1 minute) — this should be distinct for each person\n",
    "- What are the technical challenges underlying your component? (estimated length of reply - 1 to 2 minutes)\n",
    "-  Did you try any alternatives before arriving to your current solution? (Estimated length of reply — 1 to 2 minutes)\n",
    "- Explain exactly what you have done so far; what are the positive and negative aspects of your solution? (estimated length of reply — 2 to 3 minutes)\n",
    "- Demonstrate that your solution works (estimated length of reply — 2 to 3 minutes)\n"
   ]
  },
  {
   "cell_type": "markdown",
   "metadata": {},
   "source": [
    "# Role\n",
    "- Build connection between pi and the server\n",
    "    - Sending & Receving data to/from the server\n",
    "- Sleep cycle analysis\n",
    "- Machine learning part for predicting the time to push notification & decide what kinds of notification methods should use (led/phone notification/care taker)\n",
    "##### --------------------------------------------------------------\n",
    "# SOCKETIO\n",
    "\n",
    "# Technical Challenges\n",
    "- Decide which protocols to use\n",
    "    - MQTT\n",
    "    - SocketIO\n",
    "    - Bluetooth\n",
    "- Both MQTT and Bluetooth are suitable for mobile devices that does not have the ability to connect to the internet\n",
    "- SocketIO is suitable for devices have internet connections\n",
    "- Our design specification points out that all the devices are able to connect to the internet\n",
    "    - SocketIO is used\n",
    "        - Simple & easy to deploy\n",
    "        - No need to start personal hotspot for MQTT\n",
    "        - No need to connect to bluetooth(previous experiences tell BLE is harder than socketio)\n",
    "\n",
    "# Pros\n",
    "- Easy to deploy\n",
    "- Easy to use\n",
    "    - converted to an object, when we want to send different topics to the server, simply change the parameters\n"
   ]
  },
  {
   "cell_type": "code",
   "execution_count": 3,
   "metadata": {},
   "outputs": [],
   "source": [
    "import socketio\n",
    "import sys\n",
    "from os import environ\n",
    "\n",
    "class socket_sender:\n",
    "    # init\n",
    "    sio = socketio.Client()\n",
    "    # init server ip\n",
    "    #ip = 'http://35.246.29.217:65080/' \n",
    "    ip = 'localhost:65080/'\n",
    "    def __init__(self):\n",
    "        pass\n",
    "        \n",
    "    # connect to server    \n",
    "    @sio.on('connect')\n",
    "    def on_connect():\n",
    "        print('connection established')\n",
    "        #sio.emit(getTopic(),getMsg())\n",
    "\n",
    "    # client receiver\n",
    "    @sio.on('newTime')\n",
    "    def on_message(data):\n",
    "        print('message received with ', data)\n",
    "        #sio.emit('my response', {'response': 'my response'})\n",
    "\n",
    "    @sio.on('disconnect')\n",
    "    def on_disconnect():\n",
    "        print('disconnected from server')\n",
    "\n",
    "    # not used...\n",
    "    def connect_to_server(self):\n",
    "        print('connect function...')\n",
    "        print(self.ip)\n",
    "        sio.connect(self.ip)\n",
    "        sio.wait()    \n",
    "\n",
    "    def getMsg():\n",
    "        return msg\n",
    "\n",
    "    def getTopic():\n",
    "        return topic\n",
    "    \n",
    "    # function to send msg to server\n",
    "    def sendMsg(self, topic, msg):\n",
    "        sio = socketio.Client()\n",
    "        sio.connect(self.ip)\n",
    "        sio.emit(topic, msg)\n",
    "        sio.sleep(1)\n",
    "        #sio.disconnect()\n",
    "        \n",
    "    def getMsg():\n",
    "        sio = socketio.Client()\n",
    "        sio.connect(self.ip)\n",
    "        #sio.sleep(1)\n",
    "        #sio.disconnect()\n",
    "        \n",
    "   "
   ]
  },
  {
   "cell_type": "code",
   "execution_count": null,
   "metadata": {},
   "outputs": [],
   "source": []
  },
  {
   "cell_type": "code",
   "execution_count": 4,
   "metadata": {
    "scrolled": true
   },
   "outputs": [
    {
     "ename": "ConnectionError",
     "evalue": "Connection refused by the server",
     "output_type": "error",
     "traceback": [
      "\u001b[1;31m---------------------------------------------------------------------------\u001b[0m",
      "\u001b[1;31mConnectionError\u001b[0m                           Traceback (most recent call last)",
      "\u001b[1;32m<ipython-input-4-7bb48ea26fd9>\u001b[0m in \u001b[0;36m<module>\u001b[1;34m\u001b[0m\n\u001b[0;32m     13\u001b[0m \u001b[0mmsg_sender\u001b[0m \u001b[1;33m=\u001b[0m \u001b[0mclient\u001b[0m\u001b[1;33m.\u001b[0m\u001b[0msocket_sender\u001b[0m\u001b[1;33m(\u001b[0m\u001b[1;33m)\u001b[0m\u001b[1;33m\u001b[0m\u001b[0m\n\u001b[0;32m     14\u001b[0m \u001b[0mtopic\u001b[0m \u001b[1;33m=\u001b[0m \u001b[1;34m'new message'\u001b[0m\u001b[1;33m\u001b[0m\u001b[0m\n\u001b[1;32m---> 15\u001b[1;33m \u001b[0mmsg_sender\u001b[0m\u001b[1;33m.\u001b[0m\u001b[0msendMsg\u001b[0m\u001b[1;33m(\u001b[0m\u001b[0mtopic\u001b[0m\u001b[1;33m,\u001b[0m \u001b[1;34m'Hello, start'\u001b[0m\u001b[1;33m)\u001b[0m\u001b[1;33m\u001b[0m\u001b[0m\n\u001b[0m\u001b[0;32m     16\u001b[0m \u001b[1;32mfor\u001b[0m \u001b[0mi\u001b[0m \u001b[1;32min\u001b[0m \u001b[0mrange\u001b[0m\u001b[1;33m(\u001b[0m\u001b[1;36m5\u001b[0m\u001b[1;33m)\u001b[0m\u001b[1;33m:\u001b[0m\u001b[1;33m\u001b[0m\u001b[0m\n\u001b[0;32m     17\u001b[0m     \u001b[0mmsg_to_send\u001b[0m \u001b[1;33m=\u001b[0m \u001b[1;34m'Hello, jupyter '\u001b[0m \u001b[1;33m+\u001b[0m \u001b[0mstr\u001b[0m\u001b[1;33m(\u001b[0m\u001b[0mi\u001b[0m\u001b[1;33m)\u001b[0m\u001b[1;33m\u001b[0m\u001b[0m\n",
      "\u001b[1;32m~\\Documents\\Imperial\\year4\\EE4-67\\EE4-67-Machine-Learning-Code\\client.py\u001b[0m in \u001b[0;36msendMsg\u001b[1;34m(self, topic, msg)\u001b[0m\n\u001b[0;32m     44\u001b[0m     \u001b[1;32mdef\u001b[0m \u001b[0msendMsg\u001b[0m\u001b[1;33m(\u001b[0m\u001b[0mself\u001b[0m\u001b[1;33m,\u001b[0m \u001b[0mtopic\u001b[0m\u001b[1;33m,\u001b[0m \u001b[0mmsg\u001b[0m\u001b[1;33m)\u001b[0m\u001b[1;33m:\u001b[0m\u001b[1;33m\u001b[0m\u001b[0m\n\u001b[0;32m     45\u001b[0m         \u001b[0msio\u001b[0m \u001b[1;33m=\u001b[0m \u001b[0msocketio\u001b[0m\u001b[1;33m.\u001b[0m\u001b[0mClient\u001b[0m\u001b[1;33m(\u001b[0m\u001b[1;33m)\u001b[0m\u001b[1;33m\u001b[0m\u001b[0m\n\u001b[1;32m---> 46\u001b[1;33m         \u001b[0msio\u001b[0m\u001b[1;33m.\u001b[0m\u001b[0mconnect\u001b[0m\u001b[1;33m(\u001b[0m\u001b[0mself\u001b[0m\u001b[1;33m.\u001b[0m\u001b[0mip\u001b[0m\u001b[1;33m)\u001b[0m\u001b[1;33m\u001b[0m\u001b[0m\n\u001b[0m\u001b[0;32m     47\u001b[0m         \u001b[0msio\u001b[0m\u001b[1;33m.\u001b[0m\u001b[0memit\u001b[0m\u001b[1;33m(\u001b[0m\u001b[0mtopic\u001b[0m\u001b[1;33m,\u001b[0m \u001b[0mmsg\u001b[0m\u001b[1;33m)\u001b[0m\u001b[1;33m\u001b[0m\u001b[0m\n\u001b[0;32m     48\u001b[0m         \u001b[0msio\u001b[0m\u001b[1;33m.\u001b[0m\u001b[0msleep\u001b[0m\u001b[1;33m(\u001b[0m\u001b[1;36m1\u001b[0m\u001b[1;33m)\u001b[0m\u001b[1;33m\u001b[0m\u001b[0m\n",
      "\u001b[1;32mD:\\Program\\Anaconda\\envs\\py36\\lib\\site-packages\\socketio\\client.py\u001b[0m in \u001b[0;36mconnect\u001b[1;34m(self, url, headers, transports, namespaces, socketio_path)\u001b[0m\n\u001b[0;32m    208\u001b[0m                              engineio_path=socketio_path)\n\u001b[0;32m    209\u001b[0m         \u001b[1;32mexcept\u001b[0m \u001b[0mengineio\u001b[0m\u001b[1;33m.\u001b[0m\u001b[0mexceptions\u001b[0m\u001b[1;33m.\u001b[0m\u001b[0mConnectionError\u001b[0m \u001b[1;32mas\u001b[0m \u001b[0mexc\u001b[0m\u001b[1;33m:\u001b[0m\u001b[1;33m\u001b[0m\u001b[0m\n\u001b[1;32m--> 210\u001b[1;33m             \u001b[0msix\u001b[0m\u001b[1;33m.\u001b[0m\u001b[0mraise_from\u001b[0m\u001b[1;33m(\u001b[0m\u001b[0mexceptions\u001b[0m\u001b[1;33m.\u001b[0m\u001b[0mConnectionError\u001b[0m\u001b[1;33m(\u001b[0m\u001b[0mexc\u001b[0m\u001b[1;33m.\u001b[0m\u001b[0margs\u001b[0m\u001b[1;33m[\u001b[0m\u001b[1;36m0\u001b[0m\u001b[1;33m]\u001b[0m\u001b[1;33m)\u001b[0m\u001b[1;33m,\u001b[0m \u001b[1;32mNone\u001b[0m\u001b[1;33m)\u001b[0m\u001b[1;33m\u001b[0m\u001b[0m\n\u001b[0m\u001b[0;32m    211\u001b[0m \u001b[1;33m\u001b[0m\u001b[0m\n\u001b[0;32m    212\u001b[0m     \u001b[1;32mdef\u001b[0m \u001b[0mwait\u001b[0m\u001b[1;33m(\u001b[0m\u001b[0mself\u001b[0m\u001b[1;33m)\u001b[0m\u001b[1;33m:\u001b[0m\u001b[1;33m\u001b[0m\u001b[0m\n",
      "\u001b[1;32mD:\\Program\\Anaconda\\envs\\py36\\lib\\site-packages\\six.py\u001b[0m in \u001b[0;36mraise_from\u001b[1;34m(value, from_value)\u001b[0m\n",
      "\u001b[1;31mConnectionError\u001b[0m: Connection refused by the server"
     ]
    }
   ],
   "source": [
    "import socketio\n",
    "import sys\n",
    "import client\n",
    "from os import environ\n",
    "'''\n",
    "1. Initialise the socket object\n",
    "    msg_sender = client.socket_sender()\n",
    "2. Set topic, current server only receives:\n",
    "    topic = 'new message'\n",
    "3. sendMsg\n",
    "    msg_sender.sendMsg(topic, 'Hello, start')\n",
    "'''\n",
    "msg_sender = client.socket_sender()\n",
    "topic = 'new message'\n",
    "msg_sender.sendMsg(topic, 'Hello, start')\n",
    "for i in range(5):\n",
    "    msg_to_send = 'Hello, jupyter ' + str(i)\n",
    "    msg_sender.sendMsg(topic, msg_to_send)\n"
   ]
  }
 ],
 "metadata": {
  "kernelspec": {
   "display_name": "py36",
   "language": "python",
   "name": "py36"
  },
  "language_info": {
   "codemirror_mode": {
    "name": "ipython",
    "version": 3
   },
   "file_extension": ".py",
   "mimetype": "text/x-python",
   "name": "python",
   "nbconvert_exporter": "python",
   "pygments_lexer": "ipython3",
   "version": "3.6.8"
  }
 },
 "nbformat": 4,
 "nbformat_minor": 2
}
