{
 "cells": [
  {
   "cell_type": "markdown",
   "metadata": {},
   "source": [
    "- What is your role in the project exactly? (estimated length of reply - 1 minute) — this should be distinct for each person\n",
    "- What are the technical challenges underlying your component? (estimated length of reply - 1 to 2 minutes)\n",
    "-  Did you try any alternatives before arriving to your current solution? (Estimated length of reply — 1 to 2 minutes)\n",
    "- Explain exactly what you have done so far; what are the positive and negative aspects of your solution? (estimated length of reply — 2 to 3 minutes)\n",
    "- Demonstrate that your solution works (estimated length of reply — 2 to 3 minutes)\n"
   ]
  },
  {
   "cell_type": "markdown",
   "metadata": {},
   "source": [
    "# Role\n",
    "- Build connection between pi and the server\n",
    "- Sleep cycle analysis\n",
    "- Machine learning part for predicting the time to push notification & what kinds of notification methods should use (led/phone notification/care taker)"
   ]
  },
  {
   "cell_type": "code",
   "execution_count": 2,
   "metadata": {},
   "outputs": [],
   "source": [
    "import socketio\n",
    "import sys\n",
    "from os import environ\n",
    "\n",
    "class socket_sender:\n",
    "    # init\n",
    "    sio = socketio.Client()\n",
    "    # init server ip\n",
    "    ip = 'http://35.246.29.217:65080/' \n",
    "    \n",
    "    def __init__(self):\n",
    "        pass\n",
    "        \n",
    "    # connect to server    \n",
    "    @sio.on('connect')\n",
    "    def on_connect():\n",
    "        print('connection established')\n",
    "        #sio.emit(getTopic(),getMsg())\n",
    "\n",
    "    # client receiver\n",
    "    @sio.on('new message')\n",
    "    def on_message(data):\n",
    "        print('message received with ', data)\n",
    "        #sio.emit('my response', {'response': 'my response'})\n",
    "\n",
    "    @sio.on('disconnect')\n",
    "    def on_disconnect():\n",
    "        print('disconnected from server')\n",
    "\n",
    "    # not used...\n",
    "    def connect_to_server(self):\n",
    "        print('connect function...')\n",
    "        print(self.ip)\n",
    "        sio.connect(self.ip)\n",
    "        sio.wait()    \n",
    "\n",
    "    def getMsg():\n",
    "        return msg\n",
    "\n",
    "    def getTopic():\n",
    "        return topic\n",
    "    \n",
    "    # function to send msg to server\n",
    "    def sendMsg(self, topic, msg):\n",
    "        sio = socketio.Client()\n",
    "        sio.connect(self.ip)\n",
    "        sio.emit(topic, msg)\n",
    "        sio.sleep(1)\n",
    "        #sio.disconnect()\n",
    "        \n",
    "   "
   ]
  },
  {
   "cell_type": "code",
   "execution_count": 3,
   "metadata": {},
   "outputs": [
    {
     "name": "stdout",
     "output_type": "stream",
     "text": [
      "message received with  {'message': 'Hello, start'}\n",
      "message received with  {'message': 'Hello, jupyter 0'}\n",
      "message received with  {'message': 'Hello, jupyter 1'}\n",
      "message received with  {'message': 'Hello, jupyter 2'}\n",
      "message received with  {'message': 'Hello, jupyter 3'}\n",
      "message received with  {'message': 'Hello, jupyter 4'}\n",
      "disconnected from server\n"
     ]
    }
   ],
   "source": [
    "import socketio\n",
    "import sys\n",
    "import client\n",
    "from os import environ\n",
    "'''\n",
    "1. Initialise the socket object\n",
    "    msg_sender = client.socket_sender()\n",
    "2. Set topic, current server only receives:\n",
    "    topic = 'new message'\n",
    "3. sendMsg\n",
    "    msg_sender.sendMsg(topic, 'Hello, start')\n",
    "'''\n",
    "msg_sender = client.socket_sender()\n",
    "topic = 'new message'\n",
    "msg_sender.sendMsg(topic, 'Hello, start')\n",
    "for i in range(5):\n",
    "    msg_to_send = 'Hello, jupyter ' + str(i)\n",
    "    msg_sender.sendMsg(topic, msg_to_send)\n"
   ]
  },
  {
   "cell_type": "code",
   "execution_count": null,
   "metadata": {},
   "outputs": [],
   "source": []
  },
  {
   "cell_type": "code",
   "execution_count": null,
   "metadata": {},
   "outputs": [],
   "source": []
  },
  {
   "cell_type": "code",
   "execution_count": null,
   "metadata": {},
   "outputs": [],
   "source": []
  },
  {
   "cell_type": "code",
   "execution_count": null,
   "metadata": {},
   "outputs": [],
   "source": []
  },
  {
   "cell_type": "code",
   "execution_count": null,
   "metadata": {},
   "outputs": [],
   "source": []
  },
  {
   "cell_type": "code",
   "execution_count": null,
   "metadata": {},
   "outputs": [],
   "source": []
  },
  {
   "cell_type": "code",
   "execution_count": null,
   "metadata": {},
   "outputs": [],
   "source": []
  },
  {
   "cell_type": "code",
   "execution_count": 1,
   "metadata": {},
   "outputs": [
    {
     "name": "stdout",
     "output_type": "stream",
     "text": [
      "connection established\n",
      "message received with  {'message': 'This is YP 1'}\n"
     ]
    }
   ],
   "source": [
    "import socketio\n",
    "import sys\n",
    "from os import environ\n",
    "sio = socketio.Client()\n",
    "\n",
    "@sio.on('connect')\n",
    "def on_connect():\n",
    "    print('connection established')\n",
    "    #sio.emit(getTopic(),getMsg())\n",
    "\n",
    "@sio.on('new message')\n",
    "def on_message(data):\n",
    "    print('message received with ', data)\n",
    "    #sio.emit('my response', {'response': 'my response'})\n",
    "\n",
    "@sio.on('disconnect')\n",
    "def on_disconnect():\n",
    "    print('disconnected from server')\n",
    "\n",
    "def connect_to_server(self):\n",
    "    print('connect function...')\n",
    "    print(self.ip)\n",
    "    sio.connect(self.ip)\n",
    "    sio.wait()    \n",
    "\n",
    "def getMsg():\n",
    "    return msg\n",
    "\n",
    "def getTopic():\n",
    "    return topic\n",
    "\n",
    "if __name__ == \"__main__\":\n",
    "    ip = 'http://35.246.29.217:65080/'\n",
    "    msg = 'This is YP 1'\n",
    "    topic = 'new message'\n",
    "\n",
    "    sio.connect(ip)\n",
    "    sio.emit(topic, msg)\n",
    "    \n",
    "    sio.sleep(3)\n",
    "    \n",
    "    #sio.disconnect()\n",
    "    \n",
    "    \n",
    "    '''counter = 0\n",
    "    for arg in sys.argv[1:]:\n",
    "        print(arg)\n",
    "        print(counter)\n",
    "        counter += 1'''\n",
    "    '''\n",
    "    ip = sys.argv[1]\n",
    "    msg = sys.argv[2]\n",
    "    #topic =sys.argv[3]\n",
    "    \n",
    "    sio.connect(ip)\n",
    "    sio.wait() '''\n"
   ]
  },
  {
   "cell_type": "code",
   "execution_count": null,
   "metadata": {},
   "outputs": [],
   "source": [
    "192.168.137.98"
   ]
  },
  {
   "cell_type": "code",
   "execution_count": 12,
   "metadata": {},
   "outputs": [],
   "source": [
    "import socketio\n",
    "import sys\n",
    "from os import environ\n",
    "\n",
    "class socket_sender:\n",
    "    sio = socketio.Client()\n",
    "    ip = 'http://35.246.29.217:65080/' \n",
    "    \n",
    "    def __init__(self):\n",
    "        pass\n",
    "        \n",
    "    \n",
    "    @sio.on('connect')\n",
    "    def on_connect():\n",
    "        print('connection established')\n",
    "        #sio.emit(getTopic(),getMsg())\n",
    "\n",
    "    @sio.on('new message')\n",
    "    def on_message(data):\n",
    "        print('message received with ', data)\n",
    "        #sio.emit('my response', {'response': 'my response'})\n",
    "\n",
    "    @sio.on('disconnect')\n",
    "    def on_disconnect():\n",
    "        print('disconnected from server')\n",
    "\n",
    "    def connect_to_server(self):\n",
    "        print('connect function...')\n",
    "        print(self.ip)\n",
    "        sio.connect(self.ip)\n",
    "        sio.wait()    \n",
    "\n",
    "    def getMsg():\n",
    "        return msg\n",
    "\n",
    "    def getTopic():\n",
    "        return topic\n",
    "    \n",
    "    def sendMsg(self, topic, msg):\n",
    "        sio = socketio.Client()\n",
    "        sio.connect(self.ip)\n",
    "        sio.emit(topic, msg)\n",
    "        sio.sleep(1)\n",
    "        sio.disconnect()\n",
    "        \n",
    "   "
   ]
  },
  {
   "cell_type": "code",
   "execution_count": 13,
   "metadata": {},
   "outputs": [],
   "source": [
    "msg_sender = socket_sender()"
   ]
  },
  {
   "cell_type": "code",
   "execution_count": 17,
   "metadata": {},
   "outputs": [],
   "source": [
    "topic = 'new message'\n",
    "msg_sender.sendMsg(topic, 'Hello, start')\n",
    "for i in range(5):\n",
    "    msg_to_send = 'Hello, jupyter ' + str(i)\n",
    "    msg_sender.sendMsg(topic, msg_to_send)\n"
   ]
  },
  {
   "cell_type": "code",
   "execution_count": null,
   "metadata": {},
   "outputs": [],
   "source": [
    " '''if __name__ == \"__main__\":\n",
    "        ip = 'http://35.246.29.217:65080/'\n",
    "        msg = 'This is YP 1'\n",
    "        topic = 'new message'\n",
    "\n",
    "        sio.connect(ip)\n",
    "        sio.emit(topic, msg)\n",
    "\n",
    "        sio.sleep(3)'''\n",
    "\n",
    "        #sio.disconnect()\n",
    "\n",
    "\n",
    "        '''counter = 0\n",
    "        for arg in sys.argv[1:]:\n",
    "            print(arg)\n",
    "            print(counter)\n",
    "            counter += 1'''\n",
    "        '''\n",
    "        ip = sys.argv[1]\n",
    "        msg = sys.argv[2]\n",
    "        #topic =sys.argv[3]\n",
    "\n",
    "        sio.connect(ip)\n",
    "        sio.wait() '''\n"
   ]
  },
  {
   "cell_type": "code",
   "execution_count": null,
   "metadata": {},
   "outputs": [],
   "source": []
  }
 ],
 "metadata": {
  "kernelspec": {
   "display_name": "py36",
   "language": "python",
   "name": "py36"
  },
  "language_info": {
   "codemirror_mode": {
    "name": "ipython",
    "version": 3
   },
   "file_extension": ".py",
   "mimetype": "text/x-python",
   "name": "python",
   "nbconvert_exporter": "python",
   "pygments_lexer": "ipython3",
   "version": "3.6.6"
  }
 },
 "nbformat": 4,
 "nbformat_minor": 2
}
